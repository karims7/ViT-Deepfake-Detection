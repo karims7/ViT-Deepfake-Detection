{
  "nbformat": 4,
  "nbformat_minor": 0,
  "metadata": {
    "colab": {
      "provenance": [],
      "toc_visible": true
    },
    "kernelspec": {
      "name": "python3",
      "display_name": "Python 3"
    },
    "language_info": {
      "name": "python"
    }
  },
  "cells": [
    {
      "cell_type": "code",
      "execution_count": 2,
      "metadata": {
        "colab": {
          "base_uri": "https://localhost:8080/"
        },
        "id": "F9csNZTmu7qI",
        "outputId": "e3840848-adf5-4e0b-aec6-f22792a421ce"
      },
      "outputs": [
        {
          "output_type": "stream",
          "name": "stdout",
          "text": [
            "\n",
            "    _|    _|  _|    _|    _|_|_|    _|_|_|  _|_|_|  _|      _|    _|_|_|      _|_|_|_|    _|_|      _|_|_|  _|_|_|_|\n",
            "    _|    _|  _|    _|  _|        _|          _|    _|_|    _|  _|            _|        _|    _|  _|        _|\n",
            "    _|_|_|_|  _|    _|  _|  _|_|  _|  _|_|    _|    _|  _|  _|  _|  _|_|      _|_|_|    _|_|_|_|  _|        _|_|_|\n",
            "    _|    _|  _|    _|  _|    _|  _|    _|    _|    _|    _|_|  _|    _|      _|        _|    _|  _|        _|\n",
            "    _|    _|    _|_|      _|_|_|    _|_|_|  _|_|_|  _|      _|    _|_|_|      _|        _|    _|    _|_|_|  _|_|_|_|\n",
            "\n",
            "    To log in, `huggingface_hub` requires a token generated from https://huggingface.co/settings/tokens .\n",
            "Enter your token (input will not be visible): Traceback (most recent call last):\n",
            "  File \"/usr/local/bin/huggingface-cli\", line 10, in <module>\n",
            "    sys.exit(main())\n",
            "             ^^^^^^\n",
            "  File \"/usr/local/lib/python3.11/dist-packages/huggingface_hub/commands/huggingface_cli.py\", line 57, in main\n",
            "    service.run()\n",
            "  File \"/usr/local/lib/python3.11/dist-packages/huggingface_hub/commands/user.py\", line 153, in run\n",
            "    login(\n",
            "  File \"/usr/local/lib/python3.11/dist-packages/huggingface_hub/utils/_deprecation.py\", line 101, in inner_f\n",
            "    return f(*args, **kwargs)\n",
            "           ^^^^^^^^^^^^^^^^^^\n",
            "  File \"/usr/local/lib/python3.11/dist-packages/huggingface_hub/utils/_deprecation.py\", line 31, in inner_f\n",
            "    return f(*args, **kwargs)\n",
            "           ^^^^^^^^^^^^^^^^^^\n",
            "  File \"/usr/local/lib/python3.11/dist-packages/huggingface_hub/_login.py\", line 130, in login\n",
            "    interpreter_login(new_session=new_session)\n",
            "  File \"/usr/local/lib/python3.11/dist-packages/huggingface_hub/utils/_deprecation.py\", line 101, in inner_f\n",
            "    return f(*args, **kwargs)\n",
            "           ^^^^^^^^^^^^^^^^^^\n",
            "  File \"/usr/local/lib/python3.11/dist-packages/huggingface_hub/utils/_deprecation.py\", line 31, in inner_f\n",
            "    return f(*args, **kwargs)\n",
            "           ^^^^^^^^^^^^^^^^^^\n",
            "  File \"/usr/local/lib/python3.11/dist-packages/huggingface_hub/_login.py\", line 287, in interpreter_login\n",
            "    token = getpass(\"Enter your token (input will not be visible): \")\n",
            "            ^^^^^^^^^^^^^^^^^^^^^^^^^^^^^^^^^^^^^^^^^^^^^^^^^^^^^^^^^\n",
            "  File \"/usr/lib/python3.11/getpass.py\", line 77, in unix_getpass\n",
            "  File \"/usr/lib/python3.11/getpass.py\", line 146, in _raw_input\n",
            "    line = input.readline()\n",
            "           ^^^^^^^^^^^^^^^^\n",
            "KeyboardInterrupt\n",
            "^C\n"
          ]
        }
      ],
      "source": [
        "!huggingface-cli login"
      ]
    },
    {
      "cell_type": "code",
      "source": [
        "# Install Required Libraries:\n",
        "\n",
        "!pip install -q \\\n",
        "  torch torchvision \\\n",
        "  transformers==4.50.3 \\\n",
        "  datasets==3.5.0 \\\n",
        "  evaluate==0.4.3 \\\n",
        "  matplotlib \\\n",
        "  pillow==11.1.0"
      ],
      "metadata": {
        "colab": {
          "base_uri": "https://localhost:8080/"
        },
        "id": "um9Pq6hbvrUP",
        "outputId": "59e4a2d1-766f-4950-941a-360c67f3da38"
      },
      "execution_count": 3,
      "outputs": [
        {
          "output_type": "stream",
          "name": "stdout",
          "text": [
            "Fatal Python error: init_import_site: Failed to import the site module\n",
            "Python runtime state: initialized\n",
            "Traceback (most recent call last):\n",
            "  File \"<frozen importlib._bootstrap>\", line 1147, in _find_and_load_unlocked\n",
            "  File \"<frozen importlib._bootstrap>\", line 690, in _load_unlocked\n",
            "  File \"<frozen importlib._bootstrap_external>\", line 940, in exec_module\n",
            "  File \"<frozen importlib._bootstrap>\", line 241, in _call_with_frames_removed\n",
            "  File \"/usr/local/lib/python3.11/dist-packages/rapids_dask_dependency/dask_loader.py\", line 6, in <module>\n",
            "    import importlib.util\n",
            "  File \"<frozen importlib._bootstrap>\", line 1176, in _find_and_load\n",
            "  File \"<frozen importlib._bootstrap>\", line 1147, in _find_and_load_unlocked\n",
            "  File \"<frozen importlib._bootstrap>\", line 690, in _load_unlocked\n",
            "  File \"<frozen importlib._bootstrap>\", line 980, in exec_module\n",
            "  File \"<frozen importlib.util>\", line 18, in <module>\n",
            "  File \"/usr/lib/python3.11/threading.py\", line 1539, in <module>\n",
            "    _main_thread = _MainThread()\n",
            "                   ^^^^^^^^^^^^^\n",
            "  File \"/usr/lib/python3.11/threading.py\", line 1413, in __init__\n",
            "    self._set_ident()\n",
            "  File \"/usr/lib/python3.11/threading.py\", line 1008, in _set_ident\n",
            "    def _set_ident(self):\n",
            "\n",
            "KeyboardInterrupt\n",
            "\n",
            "During handling of the above exception, another exception occurred:\n",
            "\n",
            "Traceback (most recent call last):\n",
            "  File \"<frozen importlib._bootstrap>\", line 1176, in _find_and_load\n",
            "  File \"<frozen importlib._bootstrap>\", line 1147, in _find_and_load_unlocked\n",
            "  File \"<frozen importlib._bootstrap>\", line 690, in _load_unlocked\n",
            "  File \"<frozen importlib._bootstrap>\", line 980, in exec_module\n",
            "  File \"<frozen site>\", line 642, in <module>\n",
            "  File \"<frozen site>\", line 629, in main\n",
            "  File \"<frozen site>\", line 410, in addsitepackages\n",
            "  File \"<frozen site>\", line 242, in addsitedir\n",
            "  File \"<frozen site>\", line 201, in addpackage\n",
            "  File \"<string>\", line 1, in <module>\n",
            "  File \"/usr/local/lib/python3.11/dist-packages/rapids_dask_dependency/__init__.py\", line 3, in <module>\n",
            "    from .dask_loader import DaskFinder\n",
            "  File \"<frozen importlib._bootstrap>\", line 1176, in _find_and_load\n",
            "  File \"<frozen importlib._bootstrap>\", line 1150, in _find_and_load_unlocked\n",
            "KeyboardInterrupt\n"
          ]
        }
      ]
    },
    {
      "cell_type": "code",
      "source": [
        "# 2. Imports and Setup\n",
        "\n",
        "from PIL import Image\n",
        "from pathlib import Path\n",
        "import random\n",
        "import torch\n",
        "import numpy as np\n",
        "import evaluate\n",
        "import logging\n",
        "import matplotlib.pyplot as plt\n",
        "from datasets import Dataset, DatasetDict\n",
        "from transformers import (\n",
        "    ViTImageProcessor,\n",
        "    ViTForImageClassification,\n",
        "    TrainingArguments,\n",
        "    Trainer\n",
        ")\n",
        "\n",
        "from google.colab import drive, files\n",
        "import os\n",
        "\n",
        "# Enable logging\n",
        "logging.basicConfig(\n",
        "    filename=\"training_log.txt\",\n",
        "    filemode='w',\n",
        "    level=logging.INFO,\n",
        "    format='%(asctime)s - %(levelname)s - %(message)s'\n",
        ")"
      ],
      "metadata": {
        "id": "FaKCCiJXvuPG"
      },
      "execution_count": 4,
      "outputs": []
    },
    {
      "cell_type": "code",
      "source": [
        "# 3. Download & Unzip Dataset\n",
        "\n",
        "!pip install -q gdown\n",
        "\n",
        "import gdown\n",
        "import zipfile\n",
        "\n",
        "# Download from Google Drive\n",
        "file_id = \"1RbGjWoB0OAXK0vWJo1ggBtfWS8f8uwSq\"\n",
        "gdown.download(f\"https://drive.google.com/uc?id={file_id}\", output=\"datasetTWO.zip\", quiet=False)\n",
        "\n",
        "# Unzip dataset\n",
        "with zipfile.ZipFile(\"datasetTWO.zip\", 'r') as zip_ref:\n",
        "    zip_ref.extractall(\"datasetTWO\")\n"
      ],
      "metadata": {
        "colab": {
          "base_uri": "https://localhost:8080/"
        },
        "id": "nJMC-4Bsx9gX",
        "outputId": "a32a82e2-20a7-4823-b895-7d957c338e55"
      },
      "execution_count": null,
      "outputs": [
        {
          "output_type": "stream",
          "name": "stderr",
          "text": [
            "Downloading...\n",
            "From (original): https://drive.google.com/uc?id=1RbGjWoB0OAXK0vWJo1ggBtfWS8f8uwSq\n",
            "From (redirected): https://drive.google.com/uc?id=1RbGjWoB0OAXK0vWJo1ggBtfWS8f8uwSq&confirm=t&uuid=e1c99dce-1a39-4441-b0f7-863ca2347222\n",
            "To: /content/datasetTWO.zip\n",
            "100%|██████████| 69.3M/69.3M [00:00<00:00, 107MB/s]\n"
          ]
        }
      ]
    },
    {
      "cell_type": "code",
      "source": [
        "# 4. Load Dataset\n",
        "\n",
        "from pathlib import Path\n",
        "from PIL import Image\n",
        "import random\n",
        "\n",
        "def load_dataset_split(split_folder, max_per_class=200):\n",
        "    data = []\n",
        "    for label_name, label in [(\"real\", 0), (\"fake\", 1)]:\n",
        "        folder_path = Path(split_folder) / label_name\n",
        "        image_paths = list(folder_path.rglob(\"*\"))\n",
        "        image_paths = [p for p in image_paths if p.suffix.lower() in [\".jpg\", \".jpeg\", \".png\", \".bmp\", \".webp\"]]\n",
        "        !ls\n",
        "        print(image_paths)\n",
        "        selected_paths = random.sample(image_paths, min(max_per_class, len(image_paths)))\n",
        "\n",
        "        for p in selected_paths:\n",
        "            try:\n",
        "                img = Image.open(p).convert(\"RGB\")\n",
        "                data.append({\"image\": img, \"label\": label})\n",
        "            except Exception as e:\n",
        "                print(f\"Could not load image {p}: {e}\")\n",
        "    return data\n",
        "\n",
        "train_data = load_dataset_split(\"datasetTWO/wild_dataset/train\", max_per_class=420)\n",
        "val_data   = load_dataset_split(\"datasetTWO/wild_dataset/valid\", max_per_class=90)\n",
        "test_data  = load_dataset_split(\"datasetTWO/wild_dataset/test\", max_per_class=90)\n",
        "\n",
        "from datasets import Dataset, DatasetDict\n",
        "\n",
        "dataset = DatasetDict({\n",
        "    \"train\": Dataset.from_list(train_data),\n",
        "    \"validation\": Dataset.from_list(val_data),\n",
        "    \"test\": Dataset.from_list(test_data),\n",
        "})"
      ],
      "metadata": {
        "colab": {
          "base_uri": "https://localhost:8080/"
        },
        "id": "41WTNpab6EHM",
        "outputId": "aa7ee670-4c3e-4463-bc3f-436f1266cb48"
      },
      "execution_count": null,
      "outputs": [
        {
          "output_type": "stream",
          "name": "stdout",
          "text": [
            "dataset     datasetTWO.zip  loss_curve.png  vit-deepfake-finetune\n",
            "datasetTWO  dataset.zip     sample_data\n",
            "[PosixPath('datasetTWO/wild_dataset/train/real/415_3071.png'), PosixPath('datasetTWO/wild_dataset/train/real/28_740.png'), PosixPath('datasetTWO/wild_dataset/train/real/48_444.png'), PosixPath('datasetTWO/wild_dataset/train/real/253_1922.png'), PosixPath('datasetTWO/wild_dataset/train/real/40_737.png'), PosixPath('datasetTWO/wild_dataset/train/real/103_2279.png'), PosixPath('datasetTWO/wild_dataset/train/real/83_681.png'), PosixPath('datasetTWO/wild_dataset/train/real/77_2117.png'), PosixPath('datasetTWO/wild_dataset/train/real/288_3184.png'), PosixPath('datasetTWO/wild_dataset/train/real/232_5971.png'), PosixPath('datasetTWO/wild_dataset/train/real/37_1374.png'), PosixPath('datasetTWO/wild_dataset/train/real/41_1456.png'), PosixPath('datasetTWO/wild_dataset/train/real/107_2437.png'), PosixPath('datasetTWO/wild_dataset/train/real/593_4520.png'), PosixPath('datasetTWO/wild_dataset/train/real/99_1712.png'), PosixPath('datasetTWO/wild_dataset/train/real/136_4030.png'), PosixPath('datasetTWO/wild_dataset/train/real/218_4029.png'), PosixPath('datasetTWO/wild_dataset/train/real/125_1867.png'), PosixPath('datasetTWO/wild_dataset/train/real/16_370.png'), PosixPath('datasetTWO/wild_dataset/train/real/102_3098.png'), PosixPath('datasetTWO/wild_dataset/train/real/291_2833.png'), PosixPath('datasetTWO/wild_dataset/train/real/154_3310.png'), PosixPath('datasetTWO/wild_dataset/train/real/209_5143.png'), PosixPath('datasetTWO/wild_dataset/train/real/776_5927.png'), PosixPath('datasetTWO/wild_dataset/train/real/50_609.png'), PosixPath('datasetTWO/wild_dataset/train/real/192_2988.png'), PosixPath('datasetTWO/wild_dataset/train/real/107_3291.png'), PosixPath('datasetTWO/wild_dataset/train/real/201_4123.png'), PosixPath('datasetTWO/wild_dataset/train/real/22_958.png'), PosixPath('datasetTWO/wild_dataset/train/real/157_1722.png'), PosixPath('datasetTWO/wild_dataset/train/real/186_3862.png'), PosixPath('datasetTWO/wild_dataset/train/real/255_1547.png'), PosixPath('datasetTWO/wild_dataset/train/real/128_3654.png'), PosixPath('datasetTWO/wild_dataset/train/real/37_1762.png'), PosixPath('datasetTWO/wild_dataset/train/real/41_931.png'), PosixPath('datasetTWO/wild_dataset/train/real/1_11.png'), PosixPath('datasetTWO/wild_dataset/train/real/11_838.png'), PosixPath('datasetTWO/wild_dataset/train/real/207_1708.png'), PosixPath('datasetTWO/wild_dataset/train/real/478_1648.png'), PosixPath('datasetTWO/wild_dataset/train/real/301_2396.png'), PosixPath('datasetTWO/wild_dataset/train/real/25_1497.png'), PosixPath('datasetTWO/wild_dataset/train/real/76_884.png'), PosixPath('datasetTWO/wild_dataset/train/real/167_3042.png'), PosixPath('datasetTWO/wild_dataset/train/real/159_987.png'), PosixPath('datasetTWO/wild_dataset/train/real/49_1879.png'), PosixPath('datasetTWO/wild_dataset/train/real/7_328.png'), PosixPath('datasetTWO/wild_dataset/train/real/371_1156.png'), PosixPath('datasetTWO/wild_dataset/train/real/153_591.png'), PosixPath('datasetTWO/wild_dataset/train/real/117_2352.png'), PosixPath('datasetTWO/wild_dataset/train/real/222_3603.png'), PosixPath('datasetTWO/wild_dataset/train/real/36_966.png'), PosixPath('datasetTWO/wild_dataset/train/real/306_2175.png'), PosixPath('datasetTWO/wild_dataset/train/real/95_2669.png'), PosixPath('datasetTWO/wild_dataset/train/real/159_983.png'), PosixPath('datasetTWO/wild_dataset/train/real/436_6431.png'), PosixPath('datasetTWO/wild_dataset/train/real/32_1197.png'), PosixPath('datasetTWO/wild_dataset/train/real/126_7260.png'), PosixPath('datasetTWO/wild_dataset/train/real/450_1208.png'), PosixPath('datasetTWO/wild_dataset/train/real/9_309.png'), PosixPath('datasetTWO/wild_dataset/train/real/133_1936.png'), PosixPath('datasetTWO/wild_dataset/train/real/83_1652.png'), PosixPath('datasetTWO/wild_dataset/train/real/87_3490.png'), PosixPath('datasetTWO/wild_dataset/train/real/204_2771.png'), PosixPath('datasetTWO/wild_dataset/train/real/27_1176.png'), PosixPath('datasetTWO/wild_dataset/train/real/383_1856.png'), PosixPath('datasetTWO/wild_dataset/train/real/55_1837.png'), PosixPath('datasetTWO/wild_dataset/train/real/30_356.png'), PosixPath('datasetTWO/wild_dataset/train/real/45_896.png'), PosixPath('datasetTWO/wild_dataset/train/real/139_6755.png'), PosixPath('datasetTWO/wild_dataset/train/real/196_2630.png'), PosixPath('datasetTWO/wild_dataset/train/real/254_1902.png'), PosixPath('datasetTWO/wild_dataset/train/real/200_1750.png'), PosixPath('datasetTWO/wild_dataset/train/real/94_1144.png'), PosixPath('datasetTWO/wild_dataset/train/real/107_1289.png'), PosixPath('datasetTWO/wild_dataset/train/real/510_7375.png'), PosixPath('datasetTWO/wild_dataset/train/real/100_1144.png'), PosixPath('datasetTWO/wild_dataset/train/real/117_10472.png'), PosixPath('datasetTWO/wild_dataset/train/real/237_3201.png'), PosixPath('datasetTWO/wild_dataset/train/real/308_1116.png'), PosixPath('datasetTWO/wild_dataset/train/real/112_1826.png'), PosixPath('datasetTWO/wild_dataset/train/real/59_861.png'), PosixPath('datasetTWO/wild_dataset/train/real/179_2235.png'), PosixPath('datasetTWO/wild_dataset/train/real/202_759.png'), PosixPath('datasetTWO/wild_dataset/train/real/95_2648.png'), PosixPath('datasetTWO/wild_dataset/train/real/459_3681.png'), PosixPath('datasetTWO/wild_dataset/train/real/411_5966.png'), PosixPath('datasetTWO/wild_dataset/train/real/250_3718.png'), PosixPath('datasetTWO/wild_dataset/train/real/47_538.png'), PosixPath('datasetTWO/wild_dataset/train/real/251_4514.png'), PosixPath('datasetTWO/wild_dataset/train/real/130_1552.png'), PosixPath('datasetTWO/wild_dataset/train/real/423_3149.png'), PosixPath('datasetTWO/wild_dataset/train/real/128_3623.png'), PosixPath('datasetTWO/wild_dataset/train/real/775_5862.png'), PosixPath('datasetTWO/wild_dataset/train/real/11_370.png'), PosixPath('datasetTWO/wild_dataset/train/real/36_584.png'), PosixPath('datasetTWO/wild_dataset/train/real/159_4623.png'), PosixPath('datasetTWO/wild_dataset/train/real/154_4763.png'), PosixPath('datasetTWO/wild_dataset/train/real/122_2871.png'), PosixPath('datasetTWO/wild_dataset/train/real/236_1941.png'), PosixPath('datasetTWO/wild_dataset/train/real/179_3075.png'), PosixPath('datasetTWO/wild_dataset/train/real/99_2070.png'), PosixPath('datasetTWO/wild_dataset/train/real/96_1124.png'), PosixPath('datasetTWO/wild_dataset/train/real/249_4797.png'), PosixPath('datasetTWO/wild_dataset/train/real/83_1352.png'), PosixPath('datasetTWO/wild_dataset/train/real/100_670.png'), PosixPath('datasetTWO/wild_dataset/train/real/8_552.png'), PosixPath('datasetTWO/wild_dataset/train/real/226_4414.png'), PosixPath('datasetTWO/wild_dataset/train/real/147_2532.png'), PosixPath('datasetTWO/wild_dataset/train/real/1342_1635.png'), PosixPath('datasetTWO/wild_dataset/train/real/13_839.png'), PosixPath('datasetTWO/wild_dataset/train/real/153_1632.png'), PosixPath('datasetTWO/wild_dataset/train/real/22_1027.png'), PosixPath('datasetTWO/wild_dataset/train/real/136_4042.png'), PosixPath('datasetTWO/wild_dataset/train/real/52_601.png'), PosixPath('datasetTWO/wild_dataset/train/real/21_346.png'), PosixPath('datasetTWO/wild_dataset/train/real/102_2060.png'), PosixPath('datasetTWO/wild_dataset/train/real/425_6255.png'), PosixPath('datasetTWO/wild_dataset/train/real/80_1443.png'), PosixPath('datasetTWO/wild_dataset/train/real/175_1309.png'), PosixPath('datasetTWO/wild_dataset/train/real/137_6256.png'), PosixPath('datasetTWO/wild_dataset/train/real/148_1925.png'), PosixPath('datasetTWO/wild_dataset/train/real/241_3022.png'), PosixPath('datasetTWO/wild_dataset/train/real/155_1882.png'), PosixPath('datasetTWO/wild_dataset/train/real/123_3576.png'), PosixPath('datasetTWO/wild_dataset/train/real/541_1854.png'), PosixPath('datasetTWO/wild_dataset/train/real/550_4285.png'), PosixPath('datasetTWO/wild_dataset/train/real/145_2706.png'), PosixPath('datasetTWO/wild_dataset/train/real/117_10434.png'), PosixPath('datasetTWO/wild_dataset/train/real/506_1457.png'), PosixPath('datasetTWO/wild_dataset/train/real/118_896.png'), PosixPath('datasetTWO/wild_dataset/train/real/131_1938.png'), PosixPath('datasetTWO/wild_dataset/train/real/29_749.png'), PosixPath('datasetTWO/wild_dataset/train/real/323_3934.png'), PosixPath('datasetTWO/wild_dataset/train/real/124_2098.png'), PosixPath('datasetTWO/wild_dataset/train/real/34_568.png'), PosixPath('datasetTWO/wild_dataset/train/real/108_1841.png'), PosixPath('datasetTWO/wild_dataset/train/real/663_6160.png'), PosixPath('datasetTWO/wild_dataset/train/real/1_545.png'), PosixPath('datasetTWO/wild_dataset/train/real/365_3801.png'), PosixPath('datasetTWO/wild_dataset/train/real/133_4891.png'), PosixPath('datasetTWO/wild_dataset/train/real/63_2449.png'), PosixPath('datasetTWO/wild_dataset/train/real/343_2700.png'), PosixPath('datasetTWO/wild_dataset/train/real/998_8164.png'), PosixPath('datasetTWO/wild_dataset/train/real/171_4559.png'), PosixPath('datasetTWO/wild_dataset/train/real/352_2628.png'), PosixPath('datasetTWO/wild_dataset/train/real/121_914.png'), PosixPath('datasetTWO/wild_dataset/train/real/11_64.png'), PosixPath('datasetTWO/wild_dataset/train/real/57_1191.png'), PosixPath('datasetTWO/wild_dataset/train/real/6_498.png'), PosixPath('datasetTWO/wild_dataset/train/real/40_2021.png'), PosixPath('datasetTWO/wild_dataset/train/real/146_1606.png'), PosixPath('datasetTWO/wild_dataset/train/real/141_2203.png'), PosixPath('datasetTWO/wild_dataset/train/real/385_3685.png'), PosixPath('datasetTWO/wild_dataset/train/real/152_2681.png'), PosixPath('datasetTWO/wild_dataset/train/real/98_2906.png'), PosixPath('datasetTWO/wild_dataset/train/real/63_505.png'), PosixPath('datasetTWO/wild_dataset/train/real/191_3108.png'), PosixPath('datasetTWO/wild_dataset/train/real/182_2244.png'), PosixPath('datasetTWO/wild_dataset/train/real/144_3272.png'), PosixPath('datasetTWO/wild_dataset/train/real/35_506.png'), PosixPath('datasetTWO/wild_dataset/train/real/4_318.png'), PosixPath('datasetTWO/wild_dataset/train/real/81_1010.png'), PosixPath('datasetTWO/wild_dataset/train/real/40_480.png'), PosixPath('datasetTWO/wild_dataset/train/real/110_1905.png'), PosixPath('datasetTWO/wild_dataset/train/real/6_640.png'), PosixPath('datasetTWO/wild_dataset/train/real/722_5474.png'), PosixPath('datasetTWO/wild_dataset/train/real/207_550.png'), PosixPath('datasetTWO/wild_dataset/train/real/81_4557.png'), PosixPath('datasetTWO/wild_dataset/train/real/16_1198.png'), PosixPath('datasetTWO/wild_dataset/train/real/16_584.png'), PosixPath('datasetTWO/wild_dataset/train/real/69_3302.png'), PosixPath('datasetTWO/wild_dataset/train/real/107_2969.png'), PosixPath('datasetTWO/wild_dataset/train/real/17_552.png'), PosixPath('datasetTWO/wild_dataset/train/real/51_2317.png'), PosixPath('datasetTWO/wild_dataset/train/real/133_5365.png'), PosixPath('datasetTWO/wild_dataset/train/real/54_1523.png'), PosixPath('datasetTWO/wild_dataset/train/real/159_2662.png'), PosixPath('datasetTWO/wild_dataset/train/real/229_5854.png'), PosixPath('datasetTWO/wild_dataset/train/real/271_4952.png'), PosixPath('datasetTWO/wild_dataset/train/real/12_505.png'), PosixPath('datasetTWO/wild_dataset/train/real/240_2785.png'), PosixPath('datasetTWO/wild_dataset/train/real/51_1661.png'), PosixPath('datasetTWO/wild_dataset/train/real/7_548.png'), PosixPath('datasetTWO/wild_dataset/train/real/234_4478.png'), PosixPath('datasetTWO/wild_dataset/train/real/654_4865.png'), PosixPath('datasetTWO/wild_dataset/train/real/179_3437.png'), PosixPath('datasetTWO/wild_dataset/train/real/110_797.png'), PosixPath('datasetTWO/wild_dataset/train/real/127_2081.png'), PosixPath('datasetTWO/wild_dataset/train/real/39_1255.png'), PosixPath('datasetTWO/wild_dataset/train/real/74_2776.png'), PosixPath('datasetTWO/wild_dataset/train/real/316_1092.png'), PosixPath('datasetTWO/wild_dataset/train/real/198_4126.png'), PosixPath('datasetTWO/wild_dataset/train/real/56_605.png'), PosixPath('datasetTWO/wild_dataset/train/real/213_2280.png'), PosixPath('datasetTWO/wild_dataset/train/real/344_3698.png'), PosixPath('datasetTWO/wild_dataset/train/real/82_4826.png'), PosixPath('datasetTWO/wild_dataset/train/real/207_532.png'), PosixPath('datasetTWO/wild_dataset/train/real/236_5422.png'), PosixPath('datasetTWO/wild_dataset/train/real/785_2485.png'), PosixPath('datasetTWO/wild_dataset/train/real/200_1674.png'), PosixPath('datasetTWO/wild_dataset/train/real/246_914.png'), PosixPath('datasetTWO/wild_dataset/train/real/32_1160.png'), PosixPath('datasetTWO/wild_dataset/train/real/92_4131.png'), PosixPath('datasetTWO/wild_dataset/train/real/348_2793.png'), PosixPath('datasetTWO/wild_dataset/train/real/91_826.png'), PosixPath('datasetTWO/wild_dataset/train/real/6_720.png'), PosixPath('datasetTWO/wild_dataset/train/real/567_7012.png'), PosixPath('datasetTWO/wild_dataset/train/real/81_890.png'), PosixPath('datasetTWO/wild_dataset/train/real/196_1781.png'), PosixPath('datasetTWO/wild_dataset/train/real/55_1034.png'), PosixPath('datasetTWO/wild_dataset/train/real/271_863.png'), PosixPath('datasetTWO/wild_dataset/train/real/433_8591.png'), PosixPath('datasetTWO/wild_dataset/train/real/22_646.png'), PosixPath('datasetTWO/wild_dataset/train/real/44_1442.png'), PosixPath('datasetTWO/wild_dataset/train/real/302_4472.png'), PosixPath('datasetTWO/wild_dataset/train/real/264_6146.png'), PosixPath('datasetTWO/wild_dataset/train/real/425_4093.png'), PosixPath('datasetTWO/wild_dataset/train/real/230_3118.png'), PosixPath('datasetTWO/wild_dataset/train/real/103_2196.png'), PosixPath('datasetTWO/wild_dataset/train/real/720_5476.png'), PosixPath('datasetTWO/wild_dataset/train/real/229_5815.png'), PosixPath('datasetTWO/wild_dataset/train/real/135_2798.png'), PosixPath('datasetTWO/wild_dataset/train/real/87_1176.png'), PosixPath('datasetTWO/wild_dataset/train/real/43_2517.png'), PosixPath('datasetTWO/wild_dataset/train/real/53_950.png'), PosixPath('datasetTWO/wild_dataset/train/real/14_573.png'), PosixPath('datasetTWO/wild_dataset/train/real/232_1787.png'), PosixPath('datasetTWO/wild_dataset/train/real/54_942.png'), PosixPath('datasetTWO/wild_dataset/train/real/186_2972.png'), PosixPath('datasetTWO/wild_dataset/train/real/74_779.png'), PosixPath('datasetTWO/wild_dataset/train/real/775_5902.png'), PosixPath('datasetTWO/wild_dataset/train/real/225_802.png'), PosixPath('datasetTWO/wild_dataset/train/real/20_1162.png'), PosixPath('datasetTWO/wild_dataset/train/real/594_4326.png'), PosixPath('datasetTWO/wild_dataset/train/real/26_1675.png'), PosixPath('datasetTWO/wild_dataset/train/real/15_361.png'), PosixPath('datasetTWO/wild_dataset/train/real/134_2474.png'), PosixPath('datasetTWO/wild_dataset/train/real/59_855.png'), PosixPath('datasetTWO/wild_dataset/train/real/190_817.png'), PosixPath('datasetTWO/wild_dataset/train/real/109_3066.png'), PosixPath('datasetTWO/wild_dataset/train/real/184_2170.png'), PosixPath('datasetTWO/wild_dataset/train/real/433_4129.png'), PosixPath('datasetTWO/wild_dataset/train/real/191_1950.png'), PosixPath('datasetTWO/wild_dataset/train/real/204_3419.png'), PosixPath('datasetTWO/wild_dataset/train/real/64_2343.png'), PosixPath('datasetTWO/wild_dataset/train/real/444_3277.png'), PosixPath('datasetTWO/wild_dataset/train/real/88_2624.png'), PosixPath('datasetTWO/wild_dataset/train/real/102_1542.png'), PosixPath('datasetTWO/wild_dataset/train/real/103_1095.png'), PosixPath('datasetTWO/wild_dataset/train/real/49_2322.png'), PosixPath('datasetTWO/wild_dataset/train/real/27_342.png'), PosixPath('datasetTWO/wild_dataset/train/real/74_757.png'), PosixPath('datasetTWO/wild_dataset/train/real/167_1068.png'), PosixPath('datasetTWO/wild_dataset/train/real/730_5925.png'), PosixPath('datasetTWO/wild_dataset/train/real/221_3316.png'), PosixPath('datasetTWO/wild_dataset/train/real/361_3234.png'), PosixPath('datasetTWO/wild_dataset/train/real/81_1340.png'), PosixPath('datasetTWO/wild_dataset/train/real/57_299.png'), PosixPath('datasetTWO/wild_dataset/train/real/42_1628.png'), PosixPath('datasetTWO/wild_dataset/train/real/171_1272.png'), PosixPath('datasetTWO/wild_dataset/train/real/695_5102.png'), PosixPath('datasetTWO/wild_dataset/train/real/652_8131.png'), PosixPath('datasetTWO/wild_dataset/train/real/54_2916.png'), PosixPath('datasetTWO/wild_dataset/train/real/100_1653.png'), PosixPath('datasetTWO/wild_dataset/train/real/406_4884.png'), PosixPath('datasetTWO/wild_dataset/train/real/181_2840.png'), PosixPath('datasetTWO/wild_dataset/train/real/67_2217.png'), PosixPath('datasetTWO/wild_dataset/train/real/280_1663.png'), PosixPath('datasetTWO/wild_dataset/train/real/671_7534.png'), PosixPath('datasetTWO/wild_dataset/train/real/323_3761.png'), PosixPath('datasetTWO/wild_dataset/train/real/821_5921.png'), PosixPath('datasetTWO/wild_dataset/train/real/146_1853.png'), PosixPath('datasetTWO/wild_dataset/train/real/264_3457.png'), PosixPath('datasetTWO/wild_dataset/train/real/238_3629.png'), PosixPath('datasetTWO/wild_dataset/train/real/18_371.png'), PosixPath('datasetTWO/wild_dataset/train/real/164_4504.png'), PosixPath('datasetTWO/wild_dataset/train/real/46_1209.png'), PosixPath('datasetTWO/wild_dataset/train/real/48_841.png'), PosixPath('datasetTWO/wild_dataset/train/real/314_1120.png'), PosixPath('datasetTWO/wild_dataset/train/real/125_6474.png'), PosixPath('datasetTWO/wild_dataset/train/real/58_3569.png'), PosixPath('datasetTWO/wild_dataset/train/real/126_1753.png'), PosixPath('datasetTWO/wild_dataset/train/real/558_3478.png'), PosixPath('datasetTWO/wild_dataset/train/real/153_3346.png'), PosixPath('datasetTWO/wild_dataset/train/real/351_3848.png'), PosixPath('datasetTWO/wild_dataset/train/real/24_547.png'), PosixPath('datasetTWO/wild_dataset/train/real/162_2043.png'), PosixPath('datasetTWO/wild_dataset/train/real/64_3077.png'), PosixPath('datasetTWO/wild_dataset/train/real/57_2015.png'), PosixPath('datasetTWO/wild_dataset/train/real/8_736.png'), PosixPath('datasetTWO/wild_dataset/train/real/16_226.png'), PosixPath('datasetTWO/wild_dataset/train/real/214_2066.png'), PosixPath('datasetTWO/wild_dataset/train/real/66_3441.png'), PosixPath('datasetTWO/wild_dataset/train/real/7_215.png'), PosixPath('datasetTWO/wild_dataset/train/real/163_1058.png'), PosixPath('datasetTWO/wild_dataset/train/real/430_4522.png'), PosixPath('datasetTWO/wild_dataset/train/real/503_2484.png'), PosixPath('datasetTWO/wild_dataset/train/real/228_2422.png'), PosixPath('datasetTWO/wild_dataset/train/real/5_434.png'), PosixPath('datasetTWO/wild_dataset/train/real/27_939.png'), PosixPath('datasetTWO/wild_dataset/train/real/283_5253.png'), PosixPath('datasetTWO/wild_dataset/train/real/241_2308.png'), PosixPath('datasetTWO/wild_dataset/train/real/234_3306.png'), PosixPath('datasetTWO/wild_dataset/train/real/17_299.png'), PosixPath('datasetTWO/wild_dataset/train/real/11_308.png'), PosixPath('datasetTWO/wild_dataset/train/real/267_2915.png'), PosixPath('datasetTWO/wild_dataset/train/real/294_5647.png'), PosixPath('datasetTWO/wild_dataset/train/real/11_781.png'), PosixPath('datasetTWO/wild_dataset/train/real/44_1122.png'), PosixPath('datasetTWO/wild_dataset/train/real/109_3840.png'), PosixPath('datasetTWO/wild_dataset/train/real/547_2757.png'), PosixPath('datasetTWO/wild_dataset/train/real/48_1738.png'), PosixPath('datasetTWO/wild_dataset/train/real/161_574.png'), PosixPath('datasetTWO/wild_dataset/train/real/311_2789.png'), PosixPath('datasetTWO/wild_dataset/train/real/214_3750.png'), PosixPath('datasetTWO/wild_dataset/train/real/28_855.png'), PosixPath('datasetTWO/wild_dataset/train/real/255_3945.png'), PosixPath('datasetTWO/wild_dataset/train/real/720_5480.png'), PosixPath('datasetTWO/wild_dataset/train/real/139_1906.png'), PosixPath('datasetTWO/wild_dataset/train/real/479_2580.png'), PosixPath('datasetTWO/wild_dataset/train/real/57_931.png'), PosixPath('datasetTWO/wild_dataset/train/real/541_1858.png'), PosixPath('datasetTWO/wild_dataset/train/real/216_3187.png'), PosixPath('datasetTWO/wild_dataset/train/real/72_2297.png'), PosixPath('datasetTWO/wild_dataset/train/real/473_3476.png'), PosixPath('datasetTWO/wild_dataset/train/real/125_6471.png'), PosixPath('datasetTWO/wild_dataset/train/real/6_593.png'), PosixPath('datasetTWO/wild_dataset/train/real/453_2596.png'), PosixPath('datasetTWO/wild_dataset/train/real/530_3730.png'), PosixPath('datasetTWO/wild_dataset/train/real/113_1104.png'), PosixPath('datasetTWO/wild_dataset/train/real/201_3329.png'), PosixPath('datasetTWO/wild_dataset/train/real/31_711.png'), PosixPath('datasetTWO/wild_dataset/train/real/86_1394.png'), PosixPath('datasetTWO/wild_dataset/train/real/34_1871.png'), PosixPath('datasetTWO/wild_dataset/train/real/23_1183.png'), PosixPath('datasetTWO/wild_dataset/train/real/17_1010.png'), PosixPath('datasetTWO/wild_dataset/train/real/227_2334.png'), PosixPath('datasetTWO/wild_dataset/train/real/718_10141.png'), PosixPath('datasetTWO/wild_dataset/train/real/12_1085.png'), PosixPath('datasetTWO/wild_dataset/train/real/435_5143.png'), PosixPath('datasetTWO/wild_dataset/train/real/84_2473.png'), PosixPath('datasetTWO/wild_dataset/train/real/8_144.png'), PosixPath('datasetTWO/wild_dataset/train/real/316_1178.png'), PosixPath('datasetTWO/wild_dataset/train/real/761_5904.png'), PosixPath('datasetTWO/wild_dataset/train/real/92_1176.png'), PosixPath('datasetTWO/wild_dataset/train/real/69_418.png'), PosixPath('datasetTWO/wild_dataset/train/real/124_493.png'), PosixPath('datasetTWO/wild_dataset/train/real/60_1011.png'), PosixPath('datasetTWO/wild_dataset/train/real/5_589.png'), PosixPath('datasetTWO/wild_dataset/train/real/622_4657.png'), PosixPath('datasetTWO/wild_dataset/train/real/1_708.png'), PosixPath('datasetTWO/wild_dataset/train/real/191_3048.png'), PosixPath('datasetTWO/wild_dataset/train/real/74_2333.png'), PosixPath('datasetTWO/wild_dataset/train/real/24_713.png'), PosixPath('datasetTWO/wild_dataset/train/real/256_5724.png'), PosixPath('datasetTWO/wild_dataset/train/real/244_1697.png'), PosixPath('datasetTWO/wild_dataset/train/real/25_543.png'), PosixPath('datasetTWO/wild_dataset/train/real/208_6224.png'), PosixPath('datasetTWO/wild_dataset/train/real/73_1674.png'), PosixPath('datasetTWO/wild_dataset/train/real/67_1491.png'), PosixPath('datasetTWO/wild_dataset/train/real/120_2346.png'), PosixPath('datasetTWO/wild_dataset/train/real/157_1714.png'), PosixPath('datasetTWO/wild_dataset/train/real/92_828.png'), PosixPath('datasetTWO/wild_dataset/train/real/27_314.png'), PosixPath('datasetTWO/wild_dataset/train/real/3_443.png'), PosixPath('datasetTWO/wild_dataset/train/real/378_3071.png'), PosixPath('datasetTWO/wild_dataset/train/real/103_3210.png'), PosixPath('datasetTWO/wild_dataset/train/real/92_1773.png'), PosixPath('datasetTWO/wild_dataset/train/real/19_650.png'), PosixPath('datasetTWO/wild_dataset/train/real/494_2537.png'), PosixPath('datasetTWO/wild_dataset/train/real/14_443.png'), PosixPath('datasetTWO/wild_dataset/train/real/74_1093.png'), PosixPath('datasetTWO/wild_dataset/train/real/44_1931.png'), PosixPath('datasetTWO/wild_dataset/train/real/3_367.png'), PosixPath('datasetTWO/wild_dataset/train/real/66_1251.png'), PosixPath('datasetTWO/wild_dataset/train/real/223_4160.png'), PosixPath('datasetTWO/wild_dataset/train/real/55_1485.png'), PosixPath('datasetTWO/wild_dataset/train/real/225_829.png'), PosixPath('datasetTWO/wild_dataset/train/real/55_1882.png'), PosixPath('datasetTWO/wild_dataset/train/real/199_3705.png'), PosixPath('datasetTWO/wild_dataset/train/real/195_2736.png'), PosixPath('datasetTWO/wild_dataset/train/real/234_5035.png'), PosixPath('datasetTWO/wild_dataset/train/real/254_1892.png'), PosixPath('datasetTWO/wild_dataset/train/real/304_2346.png'), PosixPath('datasetTWO/wild_dataset/train/real/157_3565.png'), PosixPath('datasetTWO/wild_dataset/train/real/375_5587.png'), PosixPath('datasetTWO/wild_dataset/train/real/8_393.png'), PosixPath('datasetTWO/wild_dataset/train/real/65_490.png'), PosixPath('datasetTWO/wild_dataset/train/real/177_3478.png'), PosixPath('datasetTWO/wild_dataset/train/real/182_2311.png'), PosixPath('datasetTWO/wild_dataset/train/real/57_388.png'), PosixPath('datasetTWO/wild_dataset/train/real/467_6357.png'), PosixPath('datasetTWO/wild_dataset/train/real/235_2081.png'), PosixPath('datasetTWO/wild_dataset/train/real/130_3733.png'), PosixPath('datasetTWO/wild_dataset/train/real/806_6135.png'), PosixPath('datasetTWO/wild_dataset/train/real/51_1716.png'), PosixPath('datasetTWO/wild_dataset/train/real/57_1928.png'), PosixPath('datasetTWO/wild_dataset/train/real/28_1470.png'), PosixPath('datasetTWO/wild_dataset/train/real/335_2732.png'), PosixPath('datasetTWO/wild_dataset/train/real/456_4808.png'), PosixPath('datasetTWO/wild_dataset/train/real/73_1897.png'), PosixPath('datasetTWO/wild_dataset/train/real/56_1627.png'), PosixPath('datasetTWO/wild_dataset/train/real/130_3721.png'), PosixPath('datasetTWO/wild_dataset/train/real/874_6063.png'), PosixPath('datasetTWO/wild_dataset/train/real/236_3591.png'), PosixPath('datasetTWO/wild_dataset/train/real/32_424.png'), PosixPath('datasetTWO/wild_dataset/train/real/103_1863.png'), PosixPath('datasetTWO/wild_dataset/train/real/170_2854.png'), PosixPath('datasetTWO/wild_dataset/train/real/186_2353.png'), PosixPath('datasetTWO/wild_dataset/train/real/87_1179.png'), PosixPath('datasetTWO/wild_dataset/train/real/552_1704.png'), PosixPath('datasetTWO/wild_dataset/train/real/71_1348.png'), PosixPath('datasetTWO/wild_dataset/train/real/314_4293.png'), PosixPath('datasetTWO/wild_dataset/train/real/1212_10987.png'), PosixPath('datasetTWO/wild_dataset/train/real/21_1327.png'), PosixPath('datasetTWO/wild_dataset/train/real/48_530.png'), PosixPath('datasetTWO/wild_dataset/train/real/129_2482.png'), PosixPath('datasetTWO/wild_dataset/train/real/280_3678.png'), PosixPath('datasetTWO/wild_dataset/train/real/423_4712.png'), PosixPath('datasetTWO/wild_dataset/train/real/46_3142.png')]\n",
            "dataset     datasetTWO.zip  loss_curve.png  vit-deepfake-finetune\n",
            "datasetTWO  dataset.zip     sample_data\n",
            "[PosixPath('datasetTWO/wild_dataset/train/fake/152_2391.png'), PosixPath('datasetTWO/wild_dataset/train/fake/169_1674.png'), PosixPath('datasetTWO/wild_dataset/train/fake/134_1115.png'), PosixPath('datasetTWO/wild_dataset/train/fake/21_1338.png'), PosixPath('datasetTWO/wild_dataset/train/fake/227_5986.png'), PosixPath('datasetTWO/wild_dataset/train/fake/11_1074.png'), PosixPath('datasetTWO/wild_dataset/train/fake/75_1190.png'), PosixPath('datasetTWO/wild_dataset/train/fake/1_47.png'), PosixPath('datasetTWO/wild_dataset/train/fake/402_2715.png'), PosixPath('datasetTWO/wild_dataset/train/fake/1_3459.png'), PosixPath('datasetTWO/wild_dataset/train/fake/352_4594.png'), PosixPath('datasetTWO/wild_dataset/train/fake/214_1170.png'), PosixPath('datasetTWO/wild_dataset/train/fake/138_3265.png'), PosixPath('datasetTWO/wild_dataset/train/fake/95_1650.png'), PosixPath('datasetTWO/wild_dataset/train/fake/442_1951.png'), PosixPath('datasetTWO/wild_dataset/train/fake/30_246.png'), PosixPath('datasetTWO/wild_dataset/train/fake/9_530.png'), PosixPath('datasetTWO/wild_dataset/train/fake/133_2136.png'), PosixPath('datasetTWO/wild_dataset/train/fake/148_1920.png'), PosixPath('datasetTWO/wild_dataset/train/fake/545_9696.png'), PosixPath('datasetTWO/wild_dataset/train/fake/3_214.png'), PosixPath('datasetTWO/wild_dataset/train/fake/148_531.png'), PosixPath('datasetTWO/wild_dataset/train/fake/112_1335.png'), PosixPath('datasetTWO/wild_dataset/train/fake/214_4435.png'), PosixPath('datasetTWO/wild_dataset/train/fake/77_2836.png'), PosixPath('datasetTWO/wild_dataset/train/fake/11_133.png'), PosixPath('datasetTWO/wild_dataset/train/fake/7_526.png'), PosixPath('datasetTWO/wild_dataset/train/fake/12_923.png'), PosixPath('datasetTWO/wild_dataset/train/fake/51_3489.png'), PosixPath('datasetTWO/wild_dataset/train/fake/95_2141.png'), PosixPath('datasetTWO/wild_dataset/train/fake/114_1865.png'), PosixPath('datasetTWO/wild_dataset/train/fake/176_6461.png'), PosixPath('datasetTWO/wild_dataset/train/fake/6_162.png'), PosixPath('datasetTWO/wild_dataset/train/fake/217_1547.png'), PosixPath('datasetTWO/wild_dataset/train/fake/28_484.png'), PosixPath('datasetTWO/wild_dataset/train/fake/118_1416.png'), PosixPath('datasetTWO/wild_dataset/train/fake/49_1635.png'), PosixPath('datasetTWO/wild_dataset/train/fake/287_3472.png'), PosixPath('datasetTWO/wild_dataset/train/fake/23_1890.png'), PosixPath('datasetTWO/wild_dataset/train/fake/46_571.png'), PosixPath('datasetTWO/wild_dataset/train/fake/7_483.png'), PosixPath('datasetTWO/wild_dataset/train/fake/133_2206.png'), PosixPath('datasetTWO/wild_dataset/train/fake/101_717.png'), PosixPath('datasetTWO/wild_dataset/train/fake/37_1337.png'), PosixPath('datasetTWO/wild_dataset/train/fake/4_201.png'), PosixPath('datasetTWO/wild_dataset/train/fake/394_7292.png'), PosixPath('datasetTWO/wild_dataset/train/fake/5_1688.png'), PosixPath('datasetTWO/wild_dataset/train/fake/584_3870.png'), PosixPath('datasetTWO/wild_dataset/train/fake/31_2020.png'), PosixPath('datasetTWO/wild_dataset/train/fake/365_3748.png'), PosixPath('datasetTWO/wild_dataset/train/fake/402_3224.png'), PosixPath('datasetTWO/wild_dataset/train/fake/27_290.png'), PosixPath('datasetTWO/wild_dataset/train/fake/262_2159.png'), PosixPath('datasetTWO/wild_dataset/train/fake/401_1935.png'), PosixPath('datasetTWO/wild_dataset/train/fake/111_6923.png'), PosixPath('datasetTWO/wild_dataset/train/fake/92_3509.png'), PosixPath('datasetTWO/wild_dataset/train/fake/156_1372.png'), PosixPath('datasetTWO/wild_dataset/train/fake/851_1333.png'), PosixPath('datasetTWO/wild_dataset/train/fake/187_1567.png'), PosixPath('datasetTWO/wild_dataset/train/fake/173_2706.png'), PosixPath('datasetTWO/wild_dataset/train/fake/32_2919.png'), PosixPath('datasetTWO/wild_dataset/train/fake/10_453.png'), PosixPath('datasetTWO/wild_dataset/train/fake/22_1575.png'), PosixPath('datasetTWO/wild_dataset/train/fake/59_1873.png'), PosixPath('datasetTWO/wild_dataset/train/fake/20_1420.png'), PosixPath('datasetTWO/wild_dataset/train/fake/65_817.png'), PosixPath('datasetTWO/wild_dataset/train/fake/55_2518.png'), PosixPath('datasetTWO/wild_dataset/train/fake/52_936.png'), PosixPath('datasetTWO/wild_dataset/train/fake/12_917.png'), PosixPath('datasetTWO/wild_dataset/train/fake/237_2515.png'), PosixPath('datasetTWO/wild_dataset/train/fake/470_3722.png'), PosixPath('datasetTWO/wild_dataset/train/fake/480_3470.png'), PosixPath('datasetTWO/wild_dataset/train/fake/3_400.png'), PosixPath('datasetTWO/wild_dataset/train/fake/108_751.png'), PosixPath('datasetTWO/wild_dataset/train/fake/91_791.png'), PosixPath('datasetTWO/wild_dataset/train/fake/2_2417.png'), PosixPath('datasetTWO/wild_dataset/train/fake/50_324.png'), PosixPath('datasetTWO/wild_dataset/train/fake/462_7245.png'), PosixPath('datasetTWO/wild_dataset/train/fake/89_806.png'), PosixPath('datasetTWO/wild_dataset/train/fake/283_3051.png'), PosixPath('datasetTWO/wild_dataset/train/fake/1_457.png'), PosixPath('datasetTWO/wild_dataset/train/fake/123_1482.png'), PosixPath('datasetTWO/wild_dataset/train/fake/1152_2962.png'), PosixPath('datasetTWO/wild_dataset/train/fake/101_1514.png'), PosixPath('datasetTWO/wild_dataset/train/fake/70_1753.png'), PosixPath('datasetTWO/wild_dataset/train/fake/567_1852.png'), PosixPath('datasetTWO/wild_dataset/train/fake/37_744.png'), PosixPath('datasetTWO/wild_dataset/train/fake/59_785.png'), PosixPath('datasetTWO/wild_dataset/train/fake/102_1960.png'), PosixPath('datasetTWO/wild_dataset/train/fake/33_708.png'), PosixPath('datasetTWO/wild_dataset/train/fake/87_2582.png'), PosixPath('datasetTWO/wild_dataset/train/fake/148_2283.png'), PosixPath('datasetTWO/wild_dataset/train/fake/176_2027.png'), PosixPath('datasetTWO/wild_dataset/train/fake/130_2383.png'), PosixPath('datasetTWO/wild_dataset/train/fake/25_675.png'), PosixPath('datasetTWO/wild_dataset/train/fake/38_1390.png'), PosixPath('datasetTWO/wild_dataset/train/fake/54_1459.png'), PosixPath('datasetTWO/wild_dataset/train/fake/230_3274.png'), PosixPath('datasetTWO/wild_dataset/train/fake/131_878.png'), PosixPath('datasetTWO/wild_dataset/train/fake/7_562.png'), PosixPath('datasetTWO/wild_dataset/train/fake/11_241.png'), PosixPath('datasetTWO/wild_dataset/train/fake/47_1687.png'), PosixPath('datasetTWO/wild_dataset/train/fake/13_514.png'), PosixPath('datasetTWO/wild_dataset/train/fake/76_1500.png'), PosixPath('datasetTWO/wild_dataset/train/fake/415_7395.png'), PosixPath('datasetTWO/wild_dataset/train/fake/259_2287.png'), PosixPath('datasetTWO/wild_dataset/train/fake/7_340.png'), PosixPath('datasetTWO/wild_dataset/train/fake/132_2420.png'), PosixPath('datasetTWO/wild_dataset/train/fake/189_1976.png'), PosixPath('datasetTWO/wild_dataset/train/fake/5_696.png'), PosixPath('datasetTWO/wild_dataset/train/fake/122_3427.png'), PosixPath('datasetTWO/wild_dataset/train/fake/8_593.png'), PosixPath('datasetTWO/wild_dataset/train/fake/202_1624.png'), PosixPath('datasetTWO/wild_dataset/train/fake/120_2701.png'), PosixPath('datasetTWO/wild_dataset/train/fake/706_2183.png'), PosixPath('datasetTWO/wild_dataset/train/fake/183_2855.png'), PosixPath('datasetTWO/wild_dataset/train/fake/6_726.png'), PosixPath('datasetTWO/wild_dataset/train/fake/33_1161.png'), PosixPath('datasetTWO/wild_dataset/train/fake/185_1055.png'), PosixPath('datasetTWO/wild_dataset/train/fake/215_3566.png'), PosixPath('datasetTWO/wild_dataset/train/fake/196_1615.png'), PosixPath('datasetTWO/wild_dataset/train/fake/135_1733.png'), PosixPath('datasetTWO/wild_dataset/train/fake/95_643.png'), PosixPath('datasetTWO/wild_dataset/train/fake/197_3798.png'), PosixPath('datasetTWO/wild_dataset/train/fake/96_3997.png'), PosixPath('datasetTWO/wild_dataset/train/fake/320_2317.png'), PosixPath('datasetTWO/wild_dataset/train/fake/101_1399.png'), PosixPath('datasetTWO/wild_dataset/train/fake/6_170.png'), PosixPath('datasetTWO/wild_dataset/train/fake/128_2772.png'), PosixPath('datasetTWO/wild_dataset/train/fake/43_696.png'), PosixPath('datasetTWO/wild_dataset/train/fake/272_4604.png'), PosixPath('datasetTWO/wild_dataset/train/fake/56_794.png'), PosixPath('datasetTWO/wild_dataset/train/fake/421_3029.png'), PosixPath('datasetTWO/wild_dataset/train/fake/46_2012.png'), PosixPath('datasetTWO/wild_dataset/train/fake/25_813.png'), PosixPath('datasetTWO/wild_dataset/train/fake/32_376.png'), PosixPath('datasetTWO/wild_dataset/train/fake/923_5063.png'), PosixPath('datasetTWO/wild_dataset/train/fake/20_1845.png'), PosixPath('datasetTWO/wild_dataset/train/fake/20_795.png'), PosixPath('datasetTWO/wild_dataset/train/fake/20_1310.png'), PosixPath('datasetTWO/wild_dataset/train/fake/19_363.png'), PosixPath('datasetTWO/wild_dataset/train/fake/110_1477.png'), PosixPath('datasetTWO/wild_dataset/train/fake/9_377.png'), PosixPath('datasetTWO/wild_dataset/train/fake/355_4354.png'), PosixPath('datasetTWO/wild_dataset/train/fake/104_5481.png'), PosixPath('datasetTWO/wild_dataset/train/fake/148_3802.png'), PosixPath('datasetTWO/wild_dataset/train/fake/144_2651.png'), PosixPath('datasetTWO/wild_dataset/train/fake/138_1587.png'), PosixPath('datasetTWO/wild_dataset/train/fake/2_935.png'), PosixPath('datasetTWO/wild_dataset/train/fake/3_227.png'), PosixPath('datasetTWO/wild_dataset/train/fake/103_1561.png'), PosixPath('datasetTWO/wild_dataset/train/fake/10_742.png'), PosixPath('datasetTWO/wild_dataset/train/fake/45_798.png'), PosixPath('datasetTWO/wild_dataset/train/fake/42_352.png'), PosixPath('datasetTWO/wild_dataset/train/fake/99_3004.png'), PosixPath('datasetTWO/wild_dataset/train/fake/101_2049.png'), PosixPath('datasetTWO/wild_dataset/train/fake/146_2483.png'), PosixPath('datasetTWO/wild_dataset/train/fake/408_2584.png'), PosixPath('datasetTWO/wild_dataset/train/fake/112_1502.png'), PosixPath('datasetTWO/wild_dataset/train/fake/32_1429.png'), PosixPath('datasetTWO/wild_dataset/train/fake/147_2676.png'), PosixPath('datasetTWO/wild_dataset/train/fake/519_1500.png'), PosixPath('datasetTWO/wild_dataset/train/fake/31_1434.png'), PosixPath('datasetTWO/wild_dataset/train/fake/53_2718.png'), PosixPath('datasetTWO/wild_dataset/train/fake/94_4512.png'), PosixPath('datasetTWO/wild_dataset/train/fake/93_2167.png'), PosixPath('datasetTWO/wild_dataset/train/fake/88_3965.png'), PosixPath('datasetTWO/wild_dataset/train/fake/36_484.png'), PosixPath('datasetTWO/wild_dataset/train/fake/6_2242.png'), PosixPath('datasetTWO/wild_dataset/train/fake/136_2041.png'), PosixPath('datasetTWO/wild_dataset/train/fake/221_1206.png'), PosixPath('datasetTWO/wild_dataset/train/fake/154_4592.png'), PosixPath('datasetTWO/wild_dataset/train/fake/3_352.png'), PosixPath('datasetTWO/wild_dataset/train/fake/62_552.png'), PosixPath('datasetTWO/wild_dataset/train/fake/587_6624.png'), PosixPath('datasetTWO/wild_dataset/train/fake/650_5954.png'), PosixPath('datasetTWO/wild_dataset/train/fake/94_1148.png'), PosixPath('datasetTWO/wild_dataset/train/fake/10_612.png'), PosixPath('datasetTWO/wild_dataset/train/fake/92_1541.png'), PosixPath('datasetTWO/wild_dataset/train/fake/157_2313.png'), PosixPath('datasetTWO/wild_dataset/train/fake/515_3863.png'), PosixPath('datasetTWO/wild_dataset/train/fake/19_352.png'), PosixPath('datasetTWO/wild_dataset/train/fake/45_531.png'), PosixPath('datasetTWO/wild_dataset/train/fake/160_3122.png'), PosixPath('datasetTWO/wild_dataset/train/fake/37_2468.png'), PosixPath('datasetTWO/wild_dataset/train/fake/217_2158.png'), PosixPath('datasetTWO/wild_dataset/train/fake/48_2285.png'), PosixPath('datasetTWO/wild_dataset/train/fake/195_1740.png'), PosixPath('datasetTWO/wild_dataset/train/fake/662_2535.png'), PosixPath('datasetTWO/wild_dataset/train/fake/56_2197.png'), PosixPath('datasetTWO/wild_dataset/train/fake/1299_4310.png'), PosixPath('datasetTWO/wild_dataset/train/fake/17_705.png'), PosixPath('datasetTWO/wild_dataset/train/fake/62_2874.png'), PosixPath('datasetTWO/wild_dataset/train/fake/159_3454.png'), PosixPath('datasetTWO/wild_dataset/train/fake/13_1612.png'), PosixPath('datasetTWO/wild_dataset/train/fake/41_1017.png'), PosixPath('datasetTWO/wild_dataset/train/fake/67_1261.png'), PosixPath('datasetTWO/wild_dataset/train/fake/428_1654.png'), PosixPath('datasetTWO/wild_dataset/train/fake/152_1938.png'), PosixPath('datasetTWO/wild_dataset/train/fake/69_703.png'), PosixPath('datasetTWO/wild_dataset/train/fake/32_1362.png'), PosixPath('datasetTWO/wild_dataset/train/fake/50_1011.png'), PosixPath('datasetTWO/wild_dataset/train/fake/36_477.png'), PosixPath('datasetTWO/wild_dataset/train/fake/388_4724.png'), PosixPath('datasetTWO/wild_dataset/train/fake/106_2871.png'), PosixPath('datasetTWO/wild_dataset/train/fake/81_1350.png'), PosixPath('datasetTWO/wild_dataset/train/fake/188_3669.png'), PosixPath('datasetTWO/wild_dataset/train/fake/129_2167.png'), PosixPath('datasetTWO/wild_dataset/train/fake/92_1027.png'), PosixPath('datasetTWO/wild_dataset/train/fake/154_1331.png'), PosixPath('datasetTWO/wild_dataset/train/fake/10_2928.png'), PosixPath('datasetTWO/wild_dataset/train/fake/2_17.png'), PosixPath('datasetTWO/wild_dataset/train/fake/153_1415.png'), PosixPath('datasetTWO/wild_dataset/train/fake/29_940.png'), PosixPath('datasetTWO/wild_dataset/train/fake/70_3011.png'), PosixPath('datasetTWO/wild_dataset/train/fake/5_1170.png'), PosixPath('datasetTWO/wild_dataset/train/fake/210_3986.png'), PosixPath('datasetTWO/wild_dataset/train/fake/193_1118.png'), PosixPath('datasetTWO/wild_dataset/train/fake/70_2587.png'), PosixPath('datasetTWO/wild_dataset/train/fake/47_1957.png'), PosixPath('datasetTWO/wild_dataset/train/fake/22_651.png'), PosixPath('datasetTWO/wild_dataset/train/fake/197_2238.png'), PosixPath('datasetTWO/wild_dataset/train/fake/110_1566.png'), PosixPath('datasetTWO/wild_dataset/train/fake/13_132.png'), PosixPath('datasetTWO/wild_dataset/train/fake/35_1509.png'), PosixPath('datasetTWO/wild_dataset/train/fake/12_251.png'), PosixPath('datasetTWO/wild_dataset/train/fake/34_974.png'), PosixPath('datasetTWO/wild_dataset/train/fake/69_580.png'), PosixPath('datasetTWO/wild_dataset/train/fake/25_164.png'), PosixPath('datasetTWO/wild_dataset/train/fake/37_2106.png'), PosixPath('datasetTWO/wild_dataset/train/fake/46_1122.png'), PosixPath('datasetTWO/wild_dataset/train/fake/128_2298.png'), PosixPath('datasetTWO/wild_dataset/train/fake/91_1743.png'), PosixPath('datasetTWO/wild_dataset/train/fake/49_2026.png'), PosixPath('datasetTWO/wild_dataset/train/fake/368_2038.png'), PosixPath('datasetTWO/wild_dataset/train/fake/63_1322.png'), PosixPath('datasetTWO/wild_dataset/train/fake/185_1224.png'), PosixPath('datasetTWO/wild_dataset/train/fake/298_4826.png'), PosixPath('datasetTWO/wild_dataset/train/fake/47_1298.png'), PosixPath('datasetTWO/wild_dataset/train/fake/42_825.png'), PosixPath('datasetTWO/wild_dataset/train/fake/137_2713.png'), PosixPath('datasetTWO/wild_dataset/train/fake/20_1383.png'), PosixPath('datasetTWO/wild_dataset/train/fake/80_1511.png'), PosixPath('datasetTWO/wild_dataset/train/fake/146_2462.png'), PosixPath('datasetTWO/wild_dataset/train/fake/0_1559.png'), PosixPath('datasetTWO/wild_dataset/train/fake/41_1466.png'), PosixPath('datasetTWO/wild_dataset/train/fake/2_504.png'), PosixPath('datasetTWO/wild_dataset/train/fake/347_4313.png'), PosixPath('datasetTWO/wild_dataset/train/fake/8_1039.png'), PosixPath('datasetTWO/wild_dataset/train/fake/140_7015.png'), PosixPath('datasetTWO/wild_dataset/train/fake/229_3023.png'), PosixPath('datasetTWO/wild_dataset/train/fake/47_1624.png'), PosixPath('datasetTWO/wild_dataset/train/fake/31_981.png'), PosixPath('datasetTWO/wild_dataset/train/fake/257_1121.png'), PosixPath('datasetTWO/wild_dataset/train/fake/457_7344.png'), PosixPath('datasetTWO/wild_dataset/train/fake/150_8027.png'), PosixPath('datasetTWO/wild_dataset/train/fake/153_3297.png'), PosixPath('datasetTWO/wild_dataset/train/fake/75_3818.png'), PosixPath('datasetTWO/wild_dataset/train/fake/14_8026.png'), PosixPath('datasetTWO/wild_dataset/train/fake/1299_4277.png'), PosixPath('datasetTWO/wild_dataset/train/fake/36_675.png'), PosixPath('datasetTWO/wild_dataset/train/fake/51_945.png'), PosixPath('datasetTWO/wild_dataset/train/fake/14_458.png'), PosixPath('datasetTWO/wild_dataset/train/fake/35_1739.png'), PosixPath('datasetTWO/wild_dataset/train/fake/160_3042.png'), PosixPath('datasetTWO/wild_dataset/train/fake/17_385.png'), PosixPath('datasetTWO/wild_dataset/train/fake/463_7477.png'), PosixPath('datasetTWO/wild_dataset/train/fake/50_1974.png'), PosixPath('datasetTWO/wild_dataset/train/fake/101_1810.png'), PosixPath('datasetTWO/wild_dataset/train/fake/362_1358.png'), PosixPath('datasetTWO/wild_dataset/train/fake/71_1798.png'), PosixPath('datasetTWO/wild_dataset/train/fake/68_2655.png'), PosixPath('datasetTWO/wild_dataset/train/fake/341_3538.png'), PosixPath('datasetTWO/wild_dataset/train/fake/290_681.png'), PosixPath('datasetTWO/wild_dataset/train/fake/7_817.png'), PosixPath('datasetTWO/wild_dataset/train/fake/144_2024.png'), PosixPath('datasetTWO/wild_dataset/train/fake/240_6145.png'), PosixPath('datasetTWO/wild_dataset/train/fake/14_498.png'), PosixPath('datasetTWO/wild_dataset/train/fake/107_1716.png'), PosixPath('datasetTWO/wild_dataset/train/fake/181_6054.png'), PosixPath('datasetTWO/wild_dataset/train/fake/55_10330.png'), PosixPath('datasetTWO/wild_dataset/train/fake/41_1269.png'), PosixPath('datasetTWO/wild_dataset/train/fake/30_2127.png'), PosixPath('datasetTWO/wild_dataset/train/fake/267_4478.png'), PosixPath('datasetTWO/wild_dataset/train/fake/67_2979.png'), PosixPath('datasetTWO/wild_dataset/train/fake/69_587.png'), PosixPath('datasetTWO/wild_dataset/train/fake/1_1341.png'), PosixPath('datasetTWO/wild_dataset/train/fake/13_153.png'), PosixPath('datasetTWO/wild_dataset/train/fake/129_2841.png'), PosixPath('datasetTWO/wild_dataset/train/fake/218_1685.png'), PosixPath('datasetTWO/wild_dataset/train/fake/19_1157.png'), PosixPath('datasetTWO/wild_dataset/train/fake/52_1898.png'), PosixPath('datasetTWO/wild_dataset/train/fake/127_2901.png'), PosixPath('datasetTWO/wild_dataset/train/fake/231_5597.png'), PosixPath('datasetTWO/wild_dataset/train/fake/187_2823.png'), PosixPath('datasetTWO/wild_dataset/train/fake/141_2853.png'), PosixPath('datasetTWO/wild_dataset/train/fake/48_1388.png'), PosixPath('datasetTWO/wild_dataset/train/fake/84_6703.png'), PosixPath('datasetTWO/wild_dataset/train/fake/68_664.png'), PosixPath('datasetTWO/wild_dataset/train/fake/278_2782.png'), PosixPath('datasetTWO/wild_dataset/train/fake/388_4688.png'), PosixPath('datasetTWO/wild_dataset/train/fake/301_4894.png'), PosixPath('datasetTWO/wild_dataset/train/fake/714_3087.png'), PosixPath('datasetTWO/wild_dataset/train/fake/40_1599.png'), PosixPath('datasetTWO/wild_dataset/train/fake/73_1518.png'), PosixPath('datasetTWO/wild_dataset/train/fake/100_3384.png'), PosixPath('datasetTWO/wild_dataset/train/fake/530_5563.png'), PosixPath('datasetTWO/wild_dataset/train/fake/19_696.png'), PosixPath('datasetTWO/wild_dataset/train/fake/46_1695.png'), PosixPath('datasetTWO/wild_dataset/train/fake/21_2444.png'), PosixPath('datasetTWO/wild_dataset/train/fake/291_5036.png'), PosixPath('datasetTWO/wild_dataset/train/fake/220_1279.png'), PosixPath('datasetTWO/wild_dataset/train/fake/34_1617.png'), PosixPath('datasetTWO/wild_dataset/train/fake/574_4341.png'), PosixPath('datasetTWO/wild_dataset/train/fake/363_4388.png'), PosixPath('datasetTWO/wild_dataset/train/fake/348_4564.png'), PosixPath('datasetTWO/wild_dataset/train/fake/54_976.png'), PosixPath('datasetTWO/wild_dataset/train/fake/0_133.png'), PosixPath('datasetTWO/wild_dataset/train/fake/24_634.png'), PosixPath('datasetTWO/wild_dataset/train/fake/62_2905.png'), PosixPath('datasetTWO/wild_dataset/train/fake/182_2221.png'), PosixPath('datasetTWO/wild_dataset/train/fake/67_768.png'), PosixPath('datasetTWO/wild_dataset/train/fake/207_794.png'), PosixPath('datasetTWO/wild_dataset/train/fake/246_6477.png'), PosixPath('datasetTWO/wild_dataset/train/fake/228_3076.png'), PosixPath('datasetTWO/wild_dataset/train/fake/599_1911.png'), PosixPath('datasetTWO/wild_dataset/train/fake/418_3376.png'), PosixPath('datasetTWO/wild_dataset/train/fake/29_1384.png'), PosixPath('datasetTWO/wild_dataset/train/fake/10_2614.png'), PosixPath('datasetTWO/wild_dataset/train/fake/116_963.png'), PosixPath('datasetTWO/wild_dataset/train/fake/125_2586.png'), PosixPath('datasetTWO/wild_dataset/train/fake/442_1973.png'), PosixPath('datasetTWO/wild_dataset/train/fake/447_3879.png'), PosixPath('datasetTWO/wild_dataset/train/fake/3_279.png'), PosixPath('datasetTWO/wild_dataset/train/fake/178_6721.png'), PosixPath('datasetTWO/wild_dataset/train/fake/366_3483.png'), PosixPath('datasetTWO/wild_dataset/train/fake/2_532.png'), PosixPath('datasetTWO/wild_dataset/train/fake/54_943.png'), PosixPath('datasetTWO/wild_dataset/train/fake/101_1790.png'), PosixPath('datasetTWO/wild_dataset/train/fake/53_1623.png'), PosixPath('datasetTWO/wild_dataset/train/fake/89_674.png'), PosixPath('datasetTWO/wild_dataset/train/fake/137_2795.png'), PosixPath('datasetTWO/wild_dataset/train/fake/78_1758.png'), PosixPath('datasetTWO/wild_dataset/train/fake/181_3737.png'), PosixPath('datasetTWO/wild_dataset/train/fake/302_7342.png'), PosixPath('datasetTWO/wild_dataset/train/fake/24_317.png'), PosixPath('datasetTWO/wild_dataset/train/fake/195_5371.png'), PosixPath('datasetTWO/wild_dataset/train/fake/87_672.png'), PosixPath('datasetTWO/wild_dataset/train/fake/140_6611.png'), PosixPath('datasetTWO/wild_dataset/train/fake/177_2514.png'), PosixPath('datasetTWO/wild_dataset/train/fake/103_1465.png'), PosixPath('datasetTWO/wild_dataset/train/fake/83_1164.png'), PosixPath('datasetTWO/wild_dataset/train/fake/1030_3492.png'), PosixPath('datasetTWO/wild_dataset/train/fake/136_2388.png'), PosixPath('datasetTWO/wild_dataset/train/fake/107_4091.png'), PosixPath('datasetTWO/wild_dataset/train/fake/0_4464.png'), PosixPath('datasetTWO/wild_dataset/train/fake/80_2564.png'), PosixPath('datasetTWO/wild_dataset/train/fake/81_1326.png'), PosixPath('datasetTWO/wild_dataset/train/fake/10_454.png'), PosixPath('datasetTWO/wild_dataset/train/fake/295_2970.png'), PosixPath('datasetTWO/wild_dataset/train/fake/99_2943.png'), PosixPath('datasetTWO/wild_dataset/train/fake/254_1789.png'), PosixPath('datasetTWO/wild_dataset/train/fake/103_1043.png'), PosixPath('datasetTWO/wild_dataset/train/fake/122_433.png'), PosixPath('datasetTWO/wild_dataset/train/fake/78_3941.png'), PosixPath('datasetTWO/wild_dataset/train/fake/263_742.png'), PosixPath('datasetTWO/wild_dataset/train/fake/215_4877.png'), PosixPath('datasetTWO/wild_dataset/train/fake/340_4276.png'), PosixPath('datasetTWO/wild_dataset/train/fake/97_3987.png'), PosixPath('datasetTWO/wild_dataset/train/fake/34_828.png'), PosixPath('datasetTWO/wild_dataset/train/fake/407_5105.png'), PosixPath('datasetTWO/wild_dataset/train/fake/257_5692.png'), PosixPath('datasetTWO/wild_dataset/train/fake/5_346.png'), PosixPath('datasetTWO/wild_dataset/train/fake/106_1608.png'), PosixPath('datasetTWO/wild_dataset/train/fake/50_1023.png'), PosixPath('datasetTWO/wild_dataset/train/fake/307_3476.png'), PosixPath('datasetTWO/wild_dataset/train/fake/406_3062.png'), PosixPath('datasetTWO/wild_dataset/train/fake/31_431.png'), PosixPath('datasetTWO/wild_dataset/train/fake/48_1227.png'), PosixPath('datasetTWO/wild_dataset/train/fake/36_1658.png'), PosixPath('datasetTWO/wild_dataset/train/fake/333_2422.png'), PosixPath('datasetTWO/wild_dataset/train/fake/21_2471.png'), PosixPath('datasetTWO/wild_dataset/train/fake/47_695.png'), PosixPath('datasetTWO/wild_dataset/train/fake/41_726.png'), PosixPath('datasetTWO/wild_dataset/train/fake/141_8791.png'), PosixPath('datasetTWO/wild_dataset/train/fake/233_2220.png'), PosixPath('datasetTWO/wild_dataset/train/fake/182_7285.png'), PosixPath('datasetTWO/wild_dataset/train/fake/78_796.png'), PosixPath('datasetTWO/wild_dataset/train/fake/21_1502.png'), PosixPath('datasetTWO/wild_dataset/train/fake/1_450.png'), PosixPath('datasetTWO/wild_dataset/train/fake/404_4222.png'), PosixPath('datasetTWO/wild_dataset/train/fake/729_1992.png'), PosixPath('datasetTWO/wild_dataset/train/fake/87_708.png'), PosixPath('datasetTWO/wild_dataset/train/fake/315_2982.png'), PosixPath('datasetTWO/wild_dataset/train/fake/242_3968.png'), PosixPath('datasetTWO/wild_dataset/train/fake/204_2541.png'), PosixPath('datasetTWO/wild_dataset/train/fake/0_451.png'), PosixPath('datasetTWO/wild_dataset/train/fake/205_3569.png'), PosixPath('datasetTWO/wild_dataset/train/fake/14_262.png'), PosixPath('datasetTWO/wild_dataset/train/fake/35_1589.png'), PosixPath('datasetTWO/wild_dataset/train/fake/39_615.png'), PosixPath('datasetTWO/wild_dataset/train/fake/339_3979.png'), PosixPath('datasetTWO/wild_dataset/train/fake/54_2320.png'), PosixPath('datasetTWO/wild_dataset/train/fake/83_1754.png'), PosixPath('datasetTWO/wild_dataset/train/fake/52_1566.png'), PosixPath('datasetTWO/wild_dataset/train/fake/402_3321.png'), PosixPath('datasetTWO/wild_dataset/train/fake/93_3440.png'), PosixPath('datasetTWO/wild_dataset/train/fake/232_1460.png'), PosixPath('datasetTWO/wild_dataset/train/fake/127_2971.png'), PosixPath('datasetTWO/wild_dataset/train/fake/63_1337.png'), PosixPath('datasetTWO/wild_dataset/train/fake/175_3852.png'), PosixPath('datasetTWO/wild_dataset/train/fake/16_329.png'), PosixPath('datasetTWO/wild_dataset/train/fake/161_2222.png'), PosixPath('datasetTWO/wild_dataset/train/fake/16_378.png'), PosixPath('datasetTWO/wild_dataset/train/fake/87_2117.png'), PosixPath('datasetTWO/wild_dataset/train/fake/242_2843.png'), PosixPath('datasetTWO/wild_dataset/train/fake/18_646.png'), PosixPath('datasetTWO/wild_dataset/train/fake/38_578.png'), PosixPath('datasetTWO/wild_dataset/train/fake/60_680.png'), PosixPath('datasetTWO/wild_dataset/train/fake/11_224.png')]\n",
            "dataset     datasetTWO.zip  loss_curve.png  vit-deepfake-finetune\n",
            "datasetTWO  dataset.zip     sample_data\n",
            "[PosixPath('datasetTWO/wild_dataset/valid/real/31_1288.png'), PosixPath('datasetTWO/wild_dataset/valid/real/557_2795.png'), PosixPath('datasetTWO/wild_dataset/valid/real/340_3416.png'), PosixPath('datasetTWO/wild_dataset/valid/real/25_2169.png'), PosixPath('datasetTWO/wild_dataset/valid/real/100_1176.png'), PosixPath('datasetTWO/wild_dataset/valid/real/89_1681.png'), PosixPath('datasetTWO/wild_dataset/valid/real/92_5552.png'), PosixPath('datasetTWO/wild_dataset/valid/real/64_2134.png'), PosixPath('datasetTWO/wild_dataset/valid/real/204_3835.png'), PosixPath('datasetTWO/wild_dataset/valid/real/48_2007.png'), PosixPath('datasetTWO/wild_dataset/valid/real/18_629.png'), PosixPath('datasetTWO/wild_dataset/valid/real/27_702.png'), PosixPath('datasetTWO/wild_dataset/valid/real/166_1107.png'), PosixPath('datasetTWO/wild_dataset/valid/real/69_1351.png'), PosixPath('datasetTWO/wild_dataset/valid/real/81_885.png'), PosixPath('datasetTWO/wild_dataset/valid/real/98_2893.png'), PosixPath('datasetTWO/wild_dataset/valid/real/18_610.png'), PosixPath('datasetTWO/wild_dataset/valid/real/303_2169.png'), PosixPath('datasetTWO/wild_dataset/valid/real/200_1977.png'), PosixPath('datasetTWO/wild_dataset/valid/real/350_2883.png'), PosixPath('datasetTWO/wild_dataset/valid/real/161_3793.png'), PosixPath('datasetTWO/wild_dataset/valid/real/594_1908.png'), PosixPath('datasetTWO/wild_dataset/valid/real/116_4062.png'), PosixPath('datasetTWO/wild_dataset/valid/real/95_1887.png'), PosixPath('datasetTWO/wild_dataset/valid/real/32_1265.png'), PosixPath('datasetTWO/wild_dataset/valid/real/165_1983.png'), PosixPath('datasetTWO/wild_dataset/valid/real/89_2924.png'), PosixPath('datasetTWO/wild_dataset/valid/real/382_7030.png'), PosixPath('datasetTWO/wild_dataset/valid/real/403_6128.png'), PosixPath('datasetTWO/wild_dataset/valid/real/155_4054.png'), PosixPath('datasetTWO/wild_dataset/valid/real/208_2812.png'), PosixPath('datasetTWO/wild_dataset/valid/real/112_779.png'), PosixPath('datasetTWO/wild_dataset/valid/real/34_1851.png'), PosixPath('datasetTWO/wild_dataset/valid/real/302_1129.png'), PosixPath('datasetTWO/wild_dataset/valid/real/193_3368.png'), PosixPath('datasetTWO/wild_dataset/valid/real/114_1923.png'), PosixPath('datasetTWO/wild_dataset/valid/real/451_5509.png'), PosixPath('datasetTWO/wild_dataset/valid/real/171_1646.png'), PosixPath('datasetTWO/wild_dataset/valid/real/425_3500.png'), PosixPath('datasetTWO/wild_dataset/valid/real/126_1402.png'), PosixPath('datasetTWO/wild_dataset/valid/real/84_3159.png'), PosixPath('datasetTWO/wild_dataset/valid/real/384_7218.png'), PosixPath('datasetTWO/wild_dataset/valid/real/433_4464.png'), PosixPath('datasetTWO/wild_dataset/valid/real/25_1058.png'), PosixPath('datasetTWO/wild_dataset/valid/real/19_208.png'), PosixPath('datasetTWO/wild_dataset/valid/real/12_598.png'), PosixPath('datasetTWO/wild_dataset/valid/real/420_5593.png'), PosixPath('datasetTWO/wild_dataset/valid/real/172_2355.png'), PosixPath('datasetTWO/wild_dataset/valid/real/16_1410.png'), PosixPath('datasetTWO/wild_dataset/valid/real/204_2770.png'), PosixPath('datasetTWO/wild_dataset/valid/real/517_1553.png'), PosixPath('datasetTWO/wild_dataset/valid/real/82_2151.png'), PosixPath('datasetTWO/wild_dataset/valid/real/127_1808.png'), PosixPath('datasetTWO/wild_dataset/valid/real/204_5664.png'), PosixPath('datasetTWO/wild_dataset/valid/real/761_5889.png'), PosixPath('datasetTWO/wild_dataset/valid/real/13_835.png'), PosixPath('datasetTWO/wild_dataset/valid/real/192_2999.png'), PosixPath('datasetTWO/wild_dataset/valid/real/315_2284.png'), PosixPath('datasetTWO/wild_dataset/valid/real/53_779.png'), PosixPath('datasetTWO/wild_dataset/valid/real/74_789.png'), PosixPath('datasetTWO/wild_dataset/valid/real/192_4984.png'), PosixPath('datasetTWO/wild_dataset/valid/real/118_2028.png'), PosixPath('datasetTWO/wild_dataset/valid/real/294_3364.png'), PosixPath('datasetTWO/wild_dataset/valid/real/696_5905.png'), PosixPath('datasetTWO/wild_dataset/valid/real/239_1582.png'), PosixPath('datasetTWO/wild_dataset/valid/real/386_7536.png'), PosixPath('datasetTWO/wild_dataset/valid/real/50_666.png'), PosixPath('datasetTWO/wild_dataset/valid/real/458_3964.png'), PosixPath('datasetTWO/wild_dataset/valid/real/128_3967.png'), PosixPath('datasetTWO/wild_dataset/valid/real/154_894.png'), PosixPath('datasetTWO/wild_dataset/valid/real/138_3442.png'), PosixPath('datasetTWO/wild_dataset/valid/real/510_10653.png'), PosixPath('datasetTWO/wild_dataset/valid/real/31_1136.png'), PosixPath('datasetTWO/wild_dataset/valid/real/11_1006.png'), PosixPath('datasetTWO/wild_dataset/valid/real/331_2428.png'), PosixPath('datasetTWO/wild_dataset/valid/real/175_2972.png'), PosixPath('datasetTWO/wild_dataset/valid/real/149_1839.png'), PosixPath('datasetTWO/wild_dataset/valid/real/142_3213.png'), PosixPath('datasetTWO/wild_dataset/valid/real/8_441.png'), PosixPath('datasetTWO/wild_dataset/valid/real/95_2248.png'), PosixPath('datasetTWO/wild_dataset/valid/real/31_1082.png'), PosixPath('datasetTWO/wild_dataset/valid/real/172_3560.png'), PosixPath('datasetTWO/wild_dataset/valid/real/55_1975.png'), PosixPath('datasetTWO/wild_dataset/valid/real/308_2768.png'), PosixPath('datasetTWO/wild_dataset/valid/real/375_3368.png'), PosixPath('datasetTWO/wild_dataset/valid/real/530_3055.png'), PosixPath('datasetTWO/wild_dataset/valid/real/47_1659.png'), PosixPath('datasetTWO/wild_dataset/valid/real/334_2749.png'), PosixPath('datasetTWO/wild_dataset/valid/real/6_330.png'), PosixPath('datasetTWO/wild_dataset/valid/real/658_4952.png')]\n",
            "dataset     datasetTWO.zip  loss_curve.png  vit-deepfake-finetune\n",
            "datasetTWO  dataset.zip     sample_data\n",
            "[PosixPath('datasetTWO/wild_dataset/valid/fake/88_1825.png'), PosixPath('datasetTWO/wild_dataset/valid/fake/100_1677.png'), PosixPath('datasetTWO/wild_dataset/valid/fake/548_475.png'), PosixPath('datasetTWO/wild_dataset/valid/fake/42_510.png'), PosixPath('datasetTWO/wild_dataset/valid/fake/95_3366.png'), PosixPath('datasetTWO/wild_dataset/valid/fake/113_1294.png'), PosixPath('datasetTWO/wild_dataset/valid/fake/302_2577.png'), PosixPath('datasetTWO/wild_dataset/valid/fake/50_2039.png'), PosixPath('datasetTWO/wild_dataset/valid/fake/563_4341.png'), PosixPath('datasetTWO/wild_dataset/valid/fake/85_3192.png'), PosixPath('datasetTWO/wild_dataset/valid/fake/48_1958.png'), PosixPath('datasetTWO/wild_dataset/valid/fake/317_4966.png'), PosixPath('datasetTWO/wild_dataset/valid/fake/93_1277.png'), PosixPath('datasetTWO/wild_dataset/valid/fake/35_1547.png'), PosixPath('datasetTWO/wild_dataset/valid/fake/420_5554.png'), PosixPath('datasetTWO/wild_dataset/valid/fake/4_220.png'), PosixPath('datasetTWO/wild_dataset/valid/fake/14_966.png'), PosixPath('datasetTWO/wild_dataset/valid/fake/155_4079.png'), PosixPath('datasetTWO/wild_dataset/valid/fake/200_3457.png'), PosixPath('datasetTWO/wild_dataset/valid/fake/17_472.png'), PosixPath('datasetTWO/wild_dataset/valid/fake/46_431.png'), PosixPath('datasetTWO/wild_dataset/valid/fake/218_2749.png'), PosixPath('datasetTWO/wild_dataset/valid/fake/38_573.png'), PosixPath('datasetTWO/wild_dataset/valid/fake/87_710.png'), PosixPath('datasetTWO/wild_dataset/valid/fake/202_2547.png'), PosixPath('datasetTWO/wild_dataset/valid/fake/93_2186.png'), PosixPath('datasetTWO/wild_dataset/valid/fake/457_1184.png'), PosixPath('datasetTWO/wild_dataset/valid/fake/432_5189.png'), PosixPath('datasetTWO/wild_dataset/valid/fake/14_1775.png'), PosixPath('datasetTWO/wild_dataset/valid/fake/28_800.png'), PosixPath('datasetTWO/wild_dataset/valid/fake/41_1284.png'), PosixPath('datasetTWO/wild_dataset/valid/fake/177_3571.png'), PosixPath('datasetTWO/wild_dataset/valid/fake/2_3207.png'), PosixPath('datasetTWO/wild_dataset/valid/fake/220_2009.png'), PosixPath('datasetTWO/wild_dataset/valid/fake/62_597.png'), PosixPath('datasetTWO/wild_dataset/valid/fake/3_187.png'), PosixPath('datasetTWO/wild_dataset/valid/fake/89_711.png'), PosixPath('datasetTWO/wild_dataset/valid/fake/259_2236.png'), PosixPath('datasetTWO/wild_dataset/valid/fake/80_641.png'), PosixPath('datasetTWO/wild_dataset/valid/fake/31_1426.png'), PosixPath('datasetTWO/wild_dataset/valid/fake/145_3010.png'), PosixPath('datasetTWO/wild_dataset/valid/fake/1_167.png'), PosixPath('datasetTWO/wild_dataset/valid/fake/22_1674.png'), PosixPath('datasetTWO/wild_dataset/valid/fake/27_470.png'), PosixPath('datasetTWO/wild_dataset/valid/fake/84_771.png'), PosixPath('datasetTWO/wild_dataset/valid/fake/167_2281.png'), PosixPath('datasetTWO/wild_dataset/valid/fake/2_529.png'), PosixPath('datasetTWO/wild_dataset/valid/fake/98_2438.png'), PosixPath('datasetTWO/wild_dataset/valid/fake/41_1084.png'), PosixPath('datasetTWO/wild_dataset/valid/fake/432_5191.png'), PosixPath('datasetTWO/wild_dataset/valid/fake/103_2352.png'), PosixPath('datasetTWO/wild_dataset/valid/fake/1_347.png'), PosixPath('datasetTWO/wild_dataset/valid/fake/11_276.png'), PosixPath('datasetTWO/wild_dataset/valid/fake/19_654.png'), PosixPath('datasetTWO/wild_dataset/valid/fake/168_1314.png'), PosixPath('datasetTWO/wild_dataset/valid/fake/15_640.png'), PosixPath('datasetTWO/wild_dataset/valid/fake/50_870.png'), PosixPath('datasetTWO/wild_dataset/valid/fake/645_2784.png'), PosixPath('datasetTWO/wild_dataset/valid/fake/0_248.png'), PosixPath('datasetTWO/wild_dataset/valid/fake/19_1446.png'), PosixPath('datasetTWO/wild_dataset/valid/fake/244_5529.png'), PosixPath('datasetTWO/wild_dataset/valid/fake/88_2561.png'), PosixPath('datasetTWO/wild_dataset/valid/fake/85_2502.png'), PosixPath('datasetTWO/wild_dataset/valid/fake/15_1477.png'), PosixPath('datasetTWO/wild_dataset/valid/fake/83_905.png'), PosixPath('datasetTWO/wild_dataset/valid/fake/487_8562.png'), PosixPath('datasetTWO/wild_dataset/valid/fake/88_1182.png'), PosixPath('datasetTWO/wild_dataset/valid/fake/0_1413.png'), PosixPath('datasetTWO/wild_dataset/valid/fake/40_628.png'), PosixPath('datasetTWO/wild_dataset/valid/fake/86_2657.png'), PosixPath('datasetTWO/wild_dataset/valid/fake/59_2011.png'), PosixPath('datasetTWO/wild_dataset/valid/fake/201_4566.png'), PosixPath('datasetTWO/wild_dataset/valid/fake/118_3061.png'), PosixPath('datasetTWO/wild_dataset/valid/fake/293_3264.png'), PosixPath('datasetTWO/wild_dataset/valid/fake/95_2169.png'), PosixPath('datasetTWO/wild_dataset/valid/fake/125_2540.png'), PosixPath('datasetTWO/wild_dataset/valid/fake/51_607.png'), PosixPath('datasetTWO/wild_dataset/valid/fake/144_2811.png'), PosixPath('datasetTWO/wild_dataset/valid/fake/238_3351.png'), PosixPath('datasetTWO/wild_dataset/valid/fake/3_28.png'), PosixPath('datasetTWO/wild_dataset/valid/fake/101_1348.png'), PosixPath('datasetTWO/wild_dataset/valid/fake/12_181.png'), PosixPath('datasetTWO/wild_dataset/valid/fake/51_3498.png'), PosixPath('datasetTWO/wild_dataset/valid/fake/471_4380.png'), PosixPath('datasetTWO/wild_dataset/valid/fake/40_1906.png'), PosixPath('datasetTWO/wild_dataset/valid/fake/75_2928.png'), PosixPath('datasetTWO/wild_dataset/valid/fake/5_211.png'), PosixPath('datasetTWO/wild_dataset/valid/fake/4_325.png'), PosixPath('datasetTWO/wild_dataset/valid/fake/394_3842.png'), PosixPath('datasetTWO/wild_dataset/valid/fake/93_4316.png')]\n",
            "dataset     datasetTWO.zip  loss_curve.png  vit-deepfake-finetune\n",
            "datasetTWO  dataset.zip     sample_data\n",
            "[PosixPath('datasetTWO/wild_dataset/test/real/538_3749.png'), PosixPath('datasetTWO/wild_dataset/test/real/108_1217.png'), PosixPath('datasetTWO/wild_dataset/test/real/92_2811.png'), PosixPath('datasetTWO/wild_dataset/test/real/17_321.png'), PosixPath('datasetTWO/wild_dataset/test/real/3_619.png'), PosixPath('datasetTWO/wild_dataset/test/real/234_1560.png'), PosixPath('datasetTWO/wild_dataset/test/real/76_2420.png'), PosixPath('datasetTWO/wild_dataset/test/real/131_3059.png'), PosixPath('datasetTWO/wild_dataset/test/real/55_1095.png'), PosixPath('datasetTWO/wild_dataset/test/real/18_445.png'), PosixPath('datasetTWO/wild_dataset/test/real/115_1450.png'), PosixPath('datasetTWO/wild_dataset/test/real/53_3692.png'), PosixPath('datasetTWO/wild_dataset/test/real/45_2225.png'), PosixPath('datasetTWO/wild_dataset/test/real/91_2348.png'), PosixPath('datasetTWO/wild_dataset/test/real/540_1468.png'), PosixPath('datasetTWO/wild_dataset/test/real/158_3586.png'), PosixPath('datasetTWO/wild_dataset/test/real/394_6346.png'), PosixPath('datasetTWO/wild_dataset/test/real/12_767.png'), PosixPath('datasetTWO/wild_dataset/test/real/213_2916.png'), PosixPath('datasetTWO/wild_dataset/test/real/52_812.png'), PosixPath('datasetTWO/wild_dataset/test/real/602_1958.png'), PosixPath('datasetTWO/wild_dataset/test/real/67_1305.png'), PosixPath('datasetTWO/wild_dataset/test/real/95_3691.png'), PosixPath('datasetTWO/wild_dataset/test/real/47_1483.png'), PosixPath('datasetTWO/wild_dataset/test/real/193_1136.png'), PosixPath('datasetTWO/wild_dataset/test/real/232_3769.png'), PosixPath('datasetTWO/wild_dataset/test/real/64_653.png'), PosixPath('datasetTWO/wild_dataset/test/real/339_4182.png'), PosixPath('datasetTWO/wild_dataset/test/real/13_623.png'), PosixPath('datasetTWO/wild_dataset/test/real/15_592.png'), PosixPath('datasetTWO/wild_dataset/test/real/5_482.png'), PosixPath('datasetTWO/wild_dataset/test/real/288_3224.png'), PosixPath('datasetTWO/wild_dataset/test/real/552_1658.png'), PosixPath('datasetTWO/wild_dataset/test/real/145_1956.png'), PosixPath('datasetTWO/wild_dataset/test/real/27_222.png'), PosixPath('datasetTWO/wild_dataset/test/real/120_3101.png'), PosixPath('datasetTWO/wild_dataset/test/real/205_1422.png'), PosixPath('datasetTWO/wild_dataset/test/real/323_3874.png'), PosixPath('datasetTWO/wild_dataset/test/real/203_1793.png'), PosixPath('datasetTWO/wild_dataset/test/real/693_5179.png'), PosixPath('datasetTWO/wild_dataset/test/real/111_3245.png'), PosixPath('datasetTWO/wild_dataset/test/real/110_3062.png'), PosixPath('datasetTWO/wild_dataset/test/real/571_3565.png'), PosixPath('datasetTWO/wild_dataset/test/real/69_479.png'), PosixPath('datasetTWO/wild_dataset/test/real/153_3404.png'), PosixPath('datasetTWO/wild_dataset/test/real/193_3331.png'), PosixPath('datasetTWO/wild_dataset/test/real/385_4634.png'), PosixPath('datasetTWO/wild_dataset/test/real/250_2879.png'), PosixPath('datasetTWO/wild_dataset/test/real/237_5263.png'), PosixPath('datasetTWO/wild_dataset/test/real/8_143.png'), PosixPath('datasetTWO/wild_dataset/test/real/6_713.png'), PosixPath('datasetTWO/wild_dataset/test/real/89_1737.png'), PosixPath('datasetTWO/wild_dataset/test/real/130_4486.png'), PosixPath('datasetTWO/wild_dataset/test/real/124_2529.png'), PosixPath('datasetTWO/wild_dataset/test/real/82_4835.png'), PosixPath('datasetTWO/wild_dataset/test/real/125_1706.png'), PosixPath('datasetTWO/wild_dataset/test/real/69_2104.png'), PosixPath('datasetTWO/wild_dataset/test/real/206_2770.png'), PosixPath('datasetTWO/wild_dataset/test/real/299_3866.png'), PosixPath('datasetTWO/wild_dataset/test/real/113_1763.png'), PosixPath('datasetTWO/wild_dataset/test/real/241_3733.png'), PosixPath('datasetTWO/wild_dataset/test/real/17_258.png'), PosixPath('datasetTWO/wild_dataset/test/real/107_5740.png'), PosixPath('datasetTWO/wild_dataset/test/real/29_670.png'), PosixPath('datasetTWO/wild_dataset/test/real/9_465.png'), PosixPath('datasetTWO/wild_dataset/test/real/114_1613.png'), PosixPath('datasetTWO/wild_dataset/test/real/143_2966.png'), PosixPath('datasetTWO/wild_dataset/test/real/866_8094.png'), PosixPath('datasetTWO/wild_dataset/test/real/11_1021.png'), PosixPath('datasetTWO/wild_dataset/test/real/259_4603.png'), PosixPath('datasetTWO/wild_dataset/test/real/134_4245.png'), PosixPath('datasetTWO/wild_dataset/test/real/76_708.png'), PosixPath('datasetTWO/wild_dataset/test/real/118_2778.png'), PosixPath('datasetTWO/wild_dataset/test/real/108_3825.png'), PosixPath('datasetTWO/wild_dataset/test/real/163_4485.png'), PosixPath('datasetTWO/wild_dataset/test/real/85_1750.png'), PosixPath('datasetTWO/wild_dataset/test/real/514_10773.png'), PosixPath('datasetTWO/wild_dataset/test/real/481_3502.png'), PosixPath('datasetTWO/wild_dataset/test/real/134_5025.png'), PosixPath('datasetTWO/wild_dataset/test/real/11_1717.png'), PosixPath('datasetTWO/wild_dataset/test/real/56_1116.png'), PosixPath('datasetTWO/wild_dataset/test/real/53_930.png'), PosixPath('datasetTWO/wild_dataset/test/real/26_1625.png'), PosixPath('datasetTWO/wild_dataset/test/real/48_3263.png'), PosixPath('datasetTWO/wild_dataset/test/real/473_3445.png'), PosixPath('datasetTWO/wild_dataset/test/real/1_511.png'), PosixPath('datasetTWO/wild_dataset/test/real/33_593.png'), PosixPath('datasetTWO/wild_dataset/test/real/144_3427.png'), PosixPath('datasetTWO/wild_dataset/test/real/82_1900.png'), PosixPath('datasetTWO/wild_dataset/test/real/72_2523.png')]\n",
            "dataset     datasetTWO.zip  loss_curve.png  vit-deepfake-finetune\n",
            "datasetTWO  dataset.zip     sample_data\n",
            "[PosixPath('datasetTWO/wild_dataset/test/fake/90_1617.png'), PosixPath('datasetTWO/wild_dataset/test/fake/91_1512.png'), PosixPath('datasetTWO/wild_dataset/test/fake/102_4097.png'), PosixPath('datasetTWO/wild_dataset/test/fake/18_2335.png'), PosixPath('datasetTWO/wild_dataset/test/fake/164_2374.png'), PosixPath('datasetTWO/wild_dataset/test/fake/89_2343.png'), PosixPath('datasetTWO/wild_dataset/test/fake/73_751.png'), PosixPath('datasetTWO/wild_dataset/test/fake/482_3009.png'), PosixPath('datasetTWO/wild_dataset/test/fake/127_7364.png'), PosixPath('datasetTWO/wild_dataset/test/fake/307_4978.png'), PosixPath('datasetTWO/wild_dataset/test/fake/352_2971.png'), PosixPath('datasetTWO/wild_dataset/test/fake/169_4581.png'), PosixPath('datasetTWO/wild_dataset/test/fake/25_443.png'), PosixPath('datasetTWO/wild_dataset/test/fake/42_2699.png'), PosixPath('datasetTWO/wild_dataset/test/fake/5_164.png'), PosixPath('datasetTWO/wild_dataset/test/fake/54_444.png'), PosixPath('datasetTWO/wild_dataset/test/fake/94_1881.png'), PosixPath('datasetTWO/wild_dataset/test/fake/83_1811.png'), PosixPath('datasetTWO/wild_dataset/test/fake/11_2601.png'), PosixPath('datasetTWO/wild_dataset/test/fake/18_263.png'), PosixPath('datasetTWO/wild_dataset/test/fake/10_375.png'), PosixPath('datasetTWO/wild_dataset/test/fake/265_3408.png'), PosixPath('datasetTWO/wild_dataset/test/fake/431_2924.png'), PosixPath('datasetTWO/wild_dataset/test/fake/43_706.png'), PosixPath('datasetTWO/wild_dataset/test/fake/181_6079.png'), PosixPath('datasetTWO/wild_dataset/test/fake/1_246.png'), PosixPath('datasetTWO/wild_dataset/test/fake/28_397.png'), PosixPath('datasetTWO/wild_dataset/test/fake/120_1481.png'), PosixPath('datasetTWO/wild_dataset/test/fake/104_4266.png'), PosixPath('datasetTWO/wild_dataset/test/fake/148_2828.png'), PosixPath('datasetTWO/wild_dataset/test/fake/91_3425.png'), PosixPath('datasetTWO/wild_dataset/test/fake/220_5377.png'), PosixPath('datasetTWO/wild_dataset/test/fake/62_1810.png'), PosixPath('datasetTWO/wild_dataset/test/fake/548_460.png'), PosixPath('datasetTWO/wild_dataset/test/fake/73_1299.png'), PosixPath('datasetTWO/wild_dataset/test/fake/21_4310.png'), PosixPath('datasetTWO/wild_dataset/test/fake/43_2455.png'), PosixPath('datasetTWO/wild_dataset/test/fake/148_3755.png'), PosixPath('datasetTWO/wild_dataset/test/fake/120_2094.png'), PosixPath('datasetTWO/wild_dataset/test/fake/9_401.png'), PosixPath('datasetTWO/wild_dataset/test/fake/23_362.png'), PosixPath('datasetTWO/wild_dataset/test/fake/18_1065.png'), PosixPath('datasetTWO/wild_dataset/test/fake/257_1082.png'), PosixPath('datasetTWO/wild_dataset/test/fake/67_1728.png'), PosixPath('datasetTWO/wild_dataset/test/fake/5_87.png'), PosixPath('datasetTWO/wild_dataset/test/fake/273_3808.png'), PosixPath('datasetTWO/wild_dataset/test/fake/473_5502.png'), PosixPath('datasetTWO/wild_dataset/test/fake/544_3308.png'), PosixPath('datasetTWO/wild_dataset/test/fake/146_2485.png'), PosixPath('datasetTWO/wild_dataset/test/fake/196_5114.png'), PosixPath('datasetTWO/wild_dataset/test/fake/16_222.png'), PosixPath('datasetTWO/wild_dataset/test/fake/37_185.png'), PosixPath('datasetTWO/wild_dataset/test/fake/141_3162.png'), PosixPath('datasetTWO/wild_dataset/test/fake/2_143.png'), PosixPath('datasetTWO/wild_dataset/test/fake/215_3541.png'), PosixPath('datasetTWO/wild_dataset/test/fake/233_3593.png'), PosixPath('datasetTWO/wild_dataset/test/fake/225_3978.png'), PosixPath('datasetTWO/wild_dataset/test/fake/179_1764.png'), PosixPath('datasetTWO/wild_dataset/test/fake/188_2183.png'), PosixPath('datasetTWO/wild_dataset/test/fake/122_420.png'), PosixPath('datasetTWO/wild_dataset/test/fake/146_3427.png'), PosixPath('datasetTWO/wild_dataset/test/fake/69_1170.png'), PosixPath('datasetTWO/wild_dataset/test/fake/193_2003.png'), PosixPath('datasetTWO/wild_dataset/test/fake/162_1099.png'), PosixPath('datasetTWO/wild_dataset/test/fake/8_758.png'), PosixPath('datasetTWO/wild_dataset/test/fake/552_9803.png'), PosixPath('datasetTWO/wild_dataset/test/fake/29_876.png'), PosixPath('datasetTWO/wild_dataset/test/fake/136_3254.png'), PosixPath('datasetTWO/wild_dataset/test/fake/51_3419.png'), PosixPath('datasetTWO/wild_dataset/test/fake/77_924.png'), PosixPath('datasetTWO/wild_dataset/test/fake/133_1548.png'), PosixPath('datasetTWO/wild_dataset/test/fake/0_1333.png'), PosixPath('datasetTWO/wild_dataset/test/fake/2_79.png'), PosixPath('datasetTWO/wild_dataset/test/fake/42_798.png'), PosixPath('datasetTWO/wild_dataset/test/fake/964_3352.png'), PosixPath('datasetTWO/wild_dataset/test/fake/244_5601.png'), PosixPath('datasetTWO/wild_dataset/test/fake/334_2816.png'), PosixPath('datasetTWO/wild_dataset/test/fake/120_2669.png'), PosixPath('datasetTWO/wild_dataset/test/fake/33_373.png'), PosixPath('datasetTWO/wild_dataset/test/fake/25_857.png'), PosixPath('datasetTWO/wild_dataset/test/fake/0_593.png'), PosixPath('datasetTWO/wild_dataset/test/fake/133_2128.png'), PosixPath('datasetTWO/wild_dataset/test/fake/59_1013.png'), PosixPath('datasetTWO/wild_dataset/test/fake/5_112.png'), PosixPath('datasetTWO/wild_dataset/test/fake/96_1366.png'), PosixPath('datasetTWO/wild_dataset/test/fake/59_525.png'), PosixPath('datasetTWO/wild_dataset/test/fake/141_8813.png'), PosixPath('datasetTWO/wild_dataset/test/fake/447_6095.png'), PosixPath('datasetTWO/wild_dataset/test/fake/55_492.png'), PosixPath('datasetTWO/wild_dataset/test/fake/309_2805.png')]\n"
          ]
        }
      ]
    },
    {
      "cell_type": "code",
      "source": [
        "from transformers import ViTImageProcessor, ViTForImageClassification, TrainingArguments, Trainer\n",
        "from sklearn.metrics import accuracy_score, f1_score, precision_score, recall_score\n",
        "import torch\n",
        "import numpy as np\n",
        "\n",
        "# 5. Prepare Model & Trainer\n",
        "\n",
        "image_processor = ViTImageProcessor.from_pretrained(\"google/vit-base-patch16-224-in21k\")\n",
        "\n",
        "def transform(example_batch):\n",
        "    inputs = image_processor([img for img in example_batch[\"image\"]], return_tensors=\"pt\")\n",
        "    inputs[\"labels\"] = example_batch[\"label\"]\n",
        "    return inputs\n",
        "\n",
        "dataset[\"train\"] = dataset[\"train\"].with_transform(transform)\n",
        "dataset[\"validation\"] = dataset[\"validation\"].with_transform(transform)\n",
        "\n",
        "def collate_fn(batch):\n",
        "    return {\n",
        "        \"pixel_values\": torch.stack([x[\"pixel_values\"] for x in batch]),\n",
        "        \"labels\": torch.tensor([x[\"labels\"] for x in batch])\n",
        "    }\n",
        "\n",
        "model = ViTForImageClassification.from_pretrained(\n",
        "    \"google/vit-base-patch16-224-in21k\",\n",
        "    num_labels=2,\n",
        "    id2label={\"0\": \"real\", \"1\": \"fake\"},\n",
        "    label2id={\"real\": 0, \"fake\": 1}\n",
        ")\n",
        "\n",
        "# Improved hyperparameters\n",
        "training_args = TrainingArguments(\n",
        "   output_dir=\"./vit-deepfake-finetune\",\n",
        "   per_device_train_batch_size=32,           # Smaller for regularization\n",
        "   gradient_accumulation_steps=2,            # Same effective batch size (64)\n",
        "   fp16=True,\n",
        "   num_train_epochs=12,                      # A bit more training time\n",
        "   learning_rate=2e-5,                       # Lower = more stable convergence\n",
        "   weight_decay=0.05,                        # Stronger regularization\n",
        "   warmup_ratio=0.1,                         # Longer ramp-up\n",
        "   lr_scheduler_type=\"cosine\",               # Smooth decaying LR\n",
        "   label_smoothing_factor=0.1,               # Helps generalization\n",
        "   logging_steps=10,\n",
        "   evaluation_strategy=\"epoch\",\n",
        "   save_strategy=\"epoch\",\n",
        "   save_total_limit=2,\n",
        "   remove_unused_columns=False,\n",
        "   report_to=\"none\",\n",
        "   load_best_model_at_end=True,\n",
        "   metric_for_best_model=\"eval_f1\",          # F1 is better for class balance\n",
        "   greater_is_better=True\n",
        ")\n",
        "\n",
        "\n",
        "# returns F1 and others\n",
        "def compute_metrics(p):\n",
        "    preds = np.argmax(p.predictions, axis=1)\n",
        "    labels = p.label_ids\n",
        "    return {\n",
        "        \"accuracy\": accuracy_score(labels, preds),\n",
        "        \"f1\": f1_score(labels, preds, average=\"weighted\"),\n",
        "        \"precision\": precision_score(labels, preds, average=\"weighted\"),\n",
        "        \"recall\": recall_score(labels, preds, average=\"weighted\")\n",
        "    }\n",
        "\n",
        "trainer = Trainer(\n",
        "    model=model,\n",
        "    args=training_args,\n",
        "    train_dataset=dataset[\"train\"],\n",
        "    eval_dataset=dataset[\"validation\"],\n",
        "    tokenizer=image_processor,\n",
        "    data_collator=collate_fn,\n",
        "    compute_metrics=compute_metrics\n",
        ")\n"
      ],
      "metadata": {
        "colab": {
          "base_uri": "https://localhost:8080/"
        },
        "id": "3FdZk5Rw89j0",
        "outputId": "d073443e-65a7-42ab-a864-e85072a02ba7"
      },
      "execution_count": null,
      "outputs": [
        {
          "output_type": "stream",
          "name": "stderr",
          "text": [
            "Some weights of ViTForImageClassification were not initialized from the model checkpoint at google/vit-base-patch16-224-in21k and are newly initialized: ['classifier.bias', 'classifier.weight']\n",
            "You should probably TRAIN this model on a down-stream task to be able to use it for predictions and inference.\n",
            "/usr/local/lib/python3.11/dist-packages/transformers/training_args.py:1611: FutureWarning: `evaluation_strategy` is deprecated and will be removed in version 4.46 of 🤗 Transformers. Use `eval_strategy` instead\n",
            "  warnings.warn(\n",
            "<ipython-input-61-44da5ee49f71>:67: FutureWarning: `tokenizer` is deprecated and will be removed in version 5.0.0 for `Trainer.__init__`. Use `processing_class` instead.\n",
            "  trainer = Trainer(\n"
          ]
        }
      ]
    },
    {
      "cell_type": "code",
      "source": [
        "import torch\n",
        "\n",
        "if torch.cuda.is_available():\n",
        "    print(\"GPU is active:\", torch.cuda.get_device_name(0))\n",
        "else:\n",
        "    print(\"GPU not available — double check runtime settings.\")\n"
      ],
      "metadata": {
        "colab": {
          "base_uri": "https://localhost:8080/"
        },
        "id": "9E2nF9Z6FvFJ",
        "outputId": "e34b2665-cf65-4b87-82e6-4d83f3d3f161"
      },
      "execution_count": 5,
      "outputs": [
        {
          "output_type": "stream",
          "name": "stdout",
          "text": [
            "GPU not available — double check runtime settings.\n"
          ]
        }
      ]
    },
    {
      "cell_type": "code",
      "source": [
        "# 6. Train & Save Model\n",
        "\n",
        "trainer.train()\n",
        "\n",
        "model.save_pretrained(\"./vit-deepfake-finetune/best_model\")\n",
        "image_processor.save_pretrained(\"./vit-deepfake-finetune/best_model\")\n"
      ],
      "metadata": {
        "colab": {
          "base_uri": "https://localhost:8080/",
          "height": 437
        },
        "id": "4XWlZGVb9OCe",
        "outputId": "c7642ead-672a-4a5c-9807-c1a97f6f7a42"
      },
      "execution_count": null,
      "outputs": [
        {
          "output_type": "display_data",
          "data": {
            "text/plain": [
              "<IPython.core.display.HTML object>"
            ],
            "text/html": [
              "\n",
              "    <div>\n",
              "      \n",
              "      <progress value='156' max='156' style='width:300px; height:20px; vertical-align: middle;'></progress>\n",
              "      [156/156 03:31, Epoch 11/12]\n",
              "    </div>\n",
              "    <table border=\"1\" class=\"dataframe\">\n",
              "  <thead>\n",
              " <tr style=\"text-align: left;\">\n",
              "      <th>Epoch</th>\n",
              "      <th>Training Loss</th>\n",
              "      <th>Validation Loss</th>\n",
              "      <th>Accuracy</th>\n",
              "      <th>F1</th>\n",
              "      <th>Precision</th>\n",
              "      <th>Recall</th>\n",
              "    </tr>\n",
              "  </thead>\n",
              "  <tbody>\n",
              "    <tr>\n",
              "      <td>1</td>\n",
              "      <td>0.695700</td>\n",
              "      <td>0.685423</td>\n",
              "      <td>0.561111</td>\n",
              "      <td>0.549415</td>\n",
              "      <td>0.568191</td>\n",
              "      <td>0.561111</td>\n",
              "    </tr>\n",
              "    <tr>\n",
              "      <td>2</td>\n",
              "      <td>0.643500</td>\n",
              "      <td>0.671371</td>\n",
              "      <td>0.588889</td>\n",
              "      <td>0.567532</td>\n",
              "      <td>0.610769</td>\n",
              "      <td>0.588889</td>\n",
              "    </tr>\n",
              "    <tr>\n",
              "      <td>3</td>\n",
              "      <td>0.620000</td>\n",
              "      <td>0.647940</td>\n",
              "      <td>0.688889</td>\n",
              "      <td>0.687500</td>\n",
              "      <td>0.692308</td>\n",
              "      <td>0.688889</td>\n",
              "    </tr>\n",
              "    <tr>\n",
              "      <td>4</td>\n",
              "      <td>0.541200</td>\n",
              "      <td>0.614501</td>\n",
              "      <td>0.694444</td>\n",
              "      <td>0.693982</td>\n",
              "      <td>0.695628</td>\n",
              "      <td>0.694444</td>\n",
              "    </tr>\n",
              "    <tr>\n",
              "      <td>5</td>\n",
              "      <td>0.444400</td>\n",
              "      <td>0.583583</td>\n",
              "      <td>0.722222</td>\n",
              "      <td>0.721672</td>\n",
              "      <td>0.723992</td>\n",
              "      <td>0.722222</td>\n",
              "    </tr>\n",
              "    <tr>\n",
              "      <td>6</td>\n",
              "      <td>0.421300</td>\n",
              "      <td>0.562569</td>\n",
              "      <td>0.755556</td>\n",
              "      <td>0.753086</td>\n",
              "      <td>0.766204</td>\n",
              "      <td>0.755556</td>\n",
              "    </tr>\n",
              "    <tr>\n",
              "      <td>7</td>\n",
              "      <td>0.355200</td>\n",
              "      <td>0.540185</td>\n",
              "      <td>0.750000</td>\n",
              "      <td>0.748689</td>\n",
              "      <td>0.755327</td>\n",
              "      <td>0.750000</td>\n",
              "    </tr>\n",
              "    <tr>\n",
              "      <td>8</td>\n",
              "      <td>0.316500</td>\n",
              "      <td>0.528778</td>\n",
              "      <td>0.766667</td>\n",
              "      <td>0.765944</td>\n",
              "      <td>0.770000</td>\n",
              "      <td>0.766667</td>\n",
              "    </tr>\n",
              "    <tr>\n",
              "      <td>9</td>\n",
              "      <td>0.285400</td>\n",
              "      <td>0.525400</td>\n",
              "      <td>0.777778</td>\n",
              "      <td>0.777531</td>\n",
              "      <td>0.779018</td>\n",
              "      <td>0.777778</td>\n",
              "    </tr>\n",
              "    <tr>\n",
              "      <td>10</td>\n",
              "      <td>0.272900</td>\n",
              "      <td>0.524470</td>\n",
              "      <td>0.794444</td>\n",
              "      <td>0.793674</td>\n",
              "      <td>0.798910</td>\n",
              "      <td>0.794444</td>\n",
              "    </tr>\n",
              "    <tr>\n",
              "      <td>11</td>\n",
              "      <td>0.282800</td>\n",
              "      <td>0.524218</td>\n",
              "      <td>0.794444</td>\n",
              "      <td>0.793674</td>\n",
              "      <td>0.798910</td>\n",
              "      <td>0.794444</td>\n",
              "    </tr>\n",
              "  </tbody>\n",
              "</table><p>"
            ]
          },
          "metadata": {}
        },
        {
          "output_type": "execute_result",
          "data": {
            "text/plain": [
              "['./vit-deepfake-finetune/best_model/preprocessor_config.json']"
            ]
          },
          "metadata": {},
          "execution_count": 63
        }
      ]
    },
    {
      "cell_type": "code",
      "source": [
        "# 7. Evaluate on Test Set\n",
        "\n",
        "dataset[\"test\"] = dataset[\"test\"].with_transform(transform)\n",
        "metrics = trainer.evaluate(eval_dataset=dataset[\"test\"])\n",
        "test_acc = metrics[\"eval_accuracy\"]\n",
        "\n",
        "logging.info(f\"Test Set Accuracy: {test_acc:.4f}\")\n",
        "logging.info(\"=== Training Complete ===\")\n",
        "print(\"Test Set Accuracy:\", test_acc)"
      ],
      "metadata": {
        "colab": {
          "base_uri": "https://localhost:8080/",
          "height": 54
        },
        "id": "4mhwaYPeEqEM",
        "outputId": "54c0cfa0-ab04-4eb5-bf2b-cb31cc2cdfa5"
      },
      "execution_count": null,
      "outputs": [
        {
          "output_type": "display_data",
          "data": {
            "text/plain": [
              "<IPython.core.display.HTML object>"
            ],
            "text/html": [
              "\n",
              "    <div>\n",
              "      \n",
              "      <progress value='23' max='23' style='width:300px; height:20px; vertical-align: middle;'></progress>\n",
              "      [23/23 00:01]\n",
              "    </div>\n",
              "    "
            ]
          },
          "metadata": {}
        },
        {
          "output_type": "stream",
          "name": "stdout",
          "text": [
            "Test Set Accuracy: 0.8166666666666667\n"
          ]
        }
      ]
    },
    {
      "cell_type": "code",
      "source": [
        "# 8. Plot Loss Curve\n",
        "\n",
        "train_loss = [log[\"loss\"] for log in trainer.state.log_history if \"loss\" in log]\n",
        "eval_loss = [log[\"eval_loss\"] for log in trainer.state.log_history if \"eval_loss\" in log]\n",
        "steps_train = [log[\"step\"] for log in trainer.state.log_history if \"loss\" in log]\n",
        "steps_eval = [log[\"step\"] for log in trainer.state.log_history if \"eval_loss\" in log]\n",
        "\n",
        "plt.figure(figsize=(10, 6))\n",
        "plt.plot(steps_train, train_loss, label=\"Training Loss\")\n",
        "plt.plot(steps_eval, eval_loss, label=\"Validation Loss\")\n",
        "plt.xlabel(\"Training Steps\")\n",
        "plt.ylabel(\"Loss\")\n",
        "plt.title(\"Training vs Validation Loss\")\n",
        "plt.legend()\n",
        "plt.grid(True)\n",
        "plt.tight_layout()\n",
        "plt.savefig(\"loss_curve.png\")\n",
        "plt.show()"
      ],
      "metadata": {
        "colab": {
          "base_uri": "https://localhost:8080/",
          "height": 216
        },
        "id": "3u-bAnfaxk_u",
        "outputId": "c567c23f-4805-4c09-ce80-0cda0551fa8f"
      },
      "execution_count": 6,
      "outputs": [
        {
          "output_type": "error",
          "ename": "NameError",
          "evalue": "name 'trainer' is not defined",
          "traceback": [
            "\u001b[0;31m---------------------------------------------------------------------------\u001b[0m",
            "\u001b[0;31mNameError\u001b[0m                                 Traceback (most recent call last)",
            "\u001b[0;32m<ipython-input-6-72243bff94ef>\u001b[0m in \u001b[0;36m<cell line: 0>\u001b[0;34m()\u001b[0m\n\u001b[1;32m      1\u001b[0m \u001b[0;31m# 8. Plot Loss Curve\u001b[0m\u001b[0;34m\u001b[0m\u001b[0;34m\u001b[0m\u001b[0m\n\u001b[1;32m      2\u001b[0m \u001b[0;34m\u001b[0m\u001b[0m\n\u001b[0;32m----> 3\u001b[0;31m \u001b[0mtrain_loss\u001b[0m \u001b[0;34m=\u001b[0m \u001b[0;34m[\u001b[0m\u001b[0mlog\u001b[0m\u001b[0;34m[\u001b[0m\u001b[0;34m\"loss\"\u001b[0m\u001b[0;34m]\u001b[0m \u001b[0;32mfor\u001b[0m \u001b[0mlog\u001b[0m \u001b[0;32min\u001b[0m \u001b[0mtrainer\u001b[0m\u001b[0;34m.\u001b[0m\u001b[0mstate\u001b[0m\u001b[0;34m.\u001b[0m\u001b[0mlog_history\u001b[0m \u001b[0;32mif\u001b[0m \u001b[0;34m\"loss\"\u001b[0m \u001b[0;32min\u001b[0m \u001b[0mlog\u001b[0m\u001b[0;34m]\u001b[0m\u001b[0;34m\u001b[0m\u001b[0;34m\u001b[0m\u001b[0m\n\u001b[0m\u001b[1;32m      4\u001b[0m \u001b[0meval_loss\u001b[0m \u001b[0;34m=\u001b[0m \u001b[0;34m[\u001b[0m\u001b[0mlog\u001b[0m\u001b[0;34m[\u001b[0m\u001b[0;34m\"eval_loss\"\u001b[0m\u001b[0;34m]\u001b[0m \u001b[0;32mfor\u001b[0m \u001b[0mlog\u001b[0m \u001b[0;32min\u001b[0m \u001b[0mtrainer\u001b[0m\u001b[0;34m.\u001b[0m\u001b[0mstate\u001b[0m\u001b[0;34m.\u001b[0m\u001b[0mlog_history\u001b[0m \u001b[0;32mif\u001b[0m \u001b[0;34m\"eval_loss\"\u001b[0m \u001b[0;32min\u001b[0m \u001b[0mlog\u001b[0m\u001b[0;34m]\u001b[0m\u001b[0;34m\u001b[0m\u001b[0;34m\u001b[0m\u001b[0m\n\u001b[1;32m      5\u001b[0m \u001b[0msteps_train\u001b[0m \u001b[0;34m=\u001b[0m \u001b[0;34m[\u001b[0m\u001b[0mlog\u001b[0m\u001b[0;34m[\u001b[0m\u001b[0;34m\"step\"\u001b[0m\u001b[0;34m]\u001b[0m \u001b[0;32mfor\u001b[0m \u001b[0mlog\u001b[0m \u001b[0;32min\u001b[0m \u001b[0mtrainer\u001b[0m\u001b[0;34m.\u001b[0m\u001b[0mstate\u001b[0m\u001b[0;34m.\u001b[0m\u001b[0mlog_history\u001b[0m \u001b[0;32mif\u001b[0m \u001b[0;34m\"loss\"\u001b[0m \u001b[0;32min\u001b[0m \u001b[0mlog\u001b[0m\u001b[0;34m]\u001b[0m\u001b[0;34m\u001b[0m\u001b[0;34m\u001b[0m\u001b[0m\n",
            "\u001b[0;31mNameError\u001b[0m: name 'trainer' is not defined"
          ]
        }
      ]
    },
    {
      "cell_type": "markdown",
      "source": [],
      "metadata": {
        "id": "s1FPrlyNxkqX"
      }
    }
  ]
}